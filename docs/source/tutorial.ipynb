{
 "cells": [
  {
   "cell_type": "markdown",
   "id": "republican-spread",
   "metadata": {},
   "source": [
    "# Tutorial\n",
    "\n",
    "Intake-thredds provides an interface that combines functionality from [`siphon`](https://github.com/Unidata/siphon) and `intake` to retrieve data from THREDDS data servers. This tutorial provides an introduction to the API and features of intake-thredds. Let's begin by importing `intake`. "
   ]
  },
  {
   "cell_type": "code",
   "execution_count": 1,
   "id": "devoted-horse",
   "metadata": {},
   "outputs": [],
   "source": [
    "import intake"
   ]
  },
  {
   "cell_type": "markdown",
   "id": "portuguese-texture",
   "metadata": {},
   "source": [
    "## Loading a catalog\n",
    "\n",
    "You can load data from a THREDDS catalog by providing the URL to a valid THREDDS catalog: "
   ]
  },
  {
   "cell_type": "code",
   "execution_count": 2,
   "id": "excellent-choir",
   "metadata": {},
   "outputs": [],
   "source": [
    "cat_url = 'https://psl.noaa.gov/thredds/catalog/Datasets/noaa.ersst/catalog.xml'"
   ]
  },
  {
   "cell_type": "code",
   "execution_count": 3,
   "id": "future-academy",
   "metadata": {},
   "outputs": [
    {
     "output_type": "stream",
     "name": "stdout",
     "text": [
      "<Intake catalog: noaa-ersst-catalog>\n<class 'intake_thredds.cat.ThreddsCatalog'>\n"
     ]
    }
   ],
   "source": [
    "catalog = intake.open_thredds_cat(cat_url, name='noaa-ersst-catalog')\n",
    "print(catalog)\n",
    "print(type(catalog))"
   ]
  },
  {
   "cell_type": "markdown",
   "id": "strange-square",
   "metadata": {},
   "source": [
    "## Using the catalog\n",
    "\n",
    "Once you've loaded a catalog, you can display its contents by iterating over its entries:"
   ]
  },
  {
   "cell_type": "code",
   "execution_count": 4,
   "id": "rental-seattle",
   "metadata": {},
   "outputs": [
    {
     "output_type": "execute_result",
     "data": {
      "text/plain": [
       "['err.mnmean.v3.nc',\n",
       " 'sst.mnmean.v3.nc',\n",
       " 'sst.mnmean.v4.nc',\n",
       " 'sst.mon.1971-2000.ltm.v4.nc',\n",
       " 'sst.mon.19712000.ltm.v3.nc',\n",
       " 'sst.mon.1981-2010.ltm.v3.nc',\n",
       " 'sst.mon.1981-2010.ltm.v4.nc']"
      ]
     },
     "metadata": {},
     "execution_count": 4
    }
   ],
   "source": [
    "list(catalog)"
   ]
  },
  {
   "cell_type": "markdown",
   "id": "serial-lemon",
   "metadata": {},
   "source": [
    "Once you've identified a dataset of interest, you can access it as follows:"
   ]
  },
  {
   "cell_type": "code",
   "execution_count": 5,
   "id": "oriental-roller",
   "metadata": {},
   "outputs": [
    {
     "output_type": "stream",
     "name": "stdout",
     "text": [
      "sources:\n  err.mnmean.v3.nc:\n    args:\n      chunks: {}\n      urlpath: https://psl.noaa.gov/thredds/dodsC/Datasets/noaa.ersst/err.mnmean.v3.nc\n    description: THREDDS data\n    driver: intake_xarray.opendap.OpenDapSource\n    metadata:\n      catalog_dir: null\n\n"
     ]
    }
   ],
   "source": [
    "source = catalog['err.mnmean.v3.nc']\n",
    "print(source)"
   ]
  },
  {
   "cell_type": "code",
   "execution_count": 6,
   "id": "continent-grounds",
   "metadata": {},
   "outputs": [
    {
     "output_type": "stream",
     "name": "stdout",
     "text": [
      "<class 'intake_xarray.opendap.OpenDapSource'>\n"
     ]
    }
   ],
   "source": [
    "print(type(source))"
   ]
  },
  {
   "cell_type": "markdown",
   "id": "square-chicken",
   "metadata": {},
   "source": [
    "## Loading a dataset\n",
    "\n",
    "To load a dataset of interest, you can use the `to_dask()` method which is available on a **source** object:"
   ]
  },
  {
   "cell_type": "code",
   "execution_count": 7,
   "id": "informative-shell",
   "metadata": {},
   "outputs": [
    {
     "output_type": "stream",
     "name": "stdout",
     "text": [
      "CPU times: user 248 ms, sys: 24.2 ms, total: 273 ms\nWall time: 3.92 s\n"
     ]
    },
    {
     "output_type": "execute_result",
     "data": {
      "text/plain": [
       "<xarray.Dataset>\n",
       "Dimensions:    (lat: 89, lon: 180, nbnds: 2, time: 1994)\n",
       "Coordinates:\n",
       "  * lat        (lat) float32 88.0 86.0 84.0 82.0 ... -82.0 -84.0 -86.0 -88.0\n",
       "  * lon        (lon) float32 0.0 2.0 4.0 6.0 8.0 ... 352.0 354.0 356.0 358.0\n",
       "  * time       (time) datetime64[ns] 1854-01-01 1854-02-01 ... 2020-02-01\n",
       "Dimensions without coordinates: nbnds\n",
       "Data variables:\n",
       "    time_bnds  (time, nbnds) float64 dask.array<chunksize=(1994, 2), meta=np.ndarray>\n",
       "    err        (time, lat, lon) float32 dask.array<chunksize=(1994, 89, 180), meta=np.ndarray>\n",
       "Attributes:\n",
       "    title:                           NOAA Extended Reconstructed SST V3\n",
       "    Conventions:                     CF-1.0\n",
       "    history:                         Thu Jul  1 14:04:15 2010: ncatted -O -a ...\n",
       "    comments:                        The extended reconstructed sea surface t...\n",
       "    platform:                        Model\n",
       "    source:                          NOAA/NESDIS/National Climatic Data Center\n",
       "    institution:                     NOAA/NESDIS/National Climatic Data Center\n",
       "    citation:                        Smith, T.M., R.W. Reynolds, Thomas C. Pe...\n",
       "    dataset_title:                   Extended Reconstructed Sea Surface Tempe...\n",
       "    source_doc:                      https://www.ncdc.noaa.gov/data-access/ma...\n",
       "    References:                      https://www.psl.noaa.gov/data/gridded/da...\n",
       "    DODS_EXTRA.Unlimited_Dimension:  time"
      ],
      "text/html": "<div><svg style=\"position: absolute; width: 0; height: 0; overflow: hidden\">\n<defs>\n<symbol id=\"icon-database\" viewBox=\"0 0 32 32\">\n<path d=\"M16 0c-8.837 0-16 2.239-16 5v4c0 2.761 7.163 5 16 5s16-2.239 16-5v-4c0-2.761-7.163-5-16-5z\"></path>\n<path d=\"M16 17c-8.837 0-16-2.239-16-5v6c0 2.761 7.163 5 16 5s16-2.239 16-5v-6c0 2.761-7.163 5-16 5z\"></path>\n<path d=\"M16 26c-8.837 0-16-2.239-16-5v6c0 2.761 7.163 5 16 5s16-2.239 16-5v-6c0 2.761-7.163 5-16 5z\"></path>\n</symbol>\n<symbol id=\"icon-file-text2\" viewBox=\"0 0 32 32\">\n<path d=\"M28.681 7.159c-0.694-0.947-1.662-2.053-2.724-3.116s-2.169-2.030-3.116-2.724c-1.612-1.182-2.393-1.319-2.841-1.319h-15.5c-1.378 0-2.5 1.121-2.5 2.5v27c0 1.378 1.122 2.5 2.5 2.5h23c1.378 0 2.5-1.122 2.5-2.5v-19.5c0-0.448-0.137-1.23-1.319-2.841zM24.543 5.457c0.959 0.959 1.712 1.825 2.268 2.543h-4.811v-4.811c0.718 0.556 1.584 1.309 2.543 2.268zM28 29.5c0 0.271-0.229 0.5-0.5 0.5h-23c-0.271 0-0.5-0.229-0.5-0.5v-27c0-0.271 0.229-0.5 0.5-0.5 0 0 15.499-0 15.5 0v7c0 0.552 0.448 1 1 1h7v19.5z\"></path>\n<path d=\"M23 26h-14c-0.552 0-1-0.448-1-1s0.448-1 1-1h14c0.552 0 1 0.448 1 1s-0.448 1-1 1z\"></path>\n<path d=\"M23 22h-14c-0.552 0-1-0.448-1-1s0.448-1 1-1h14c0.552 0 1 0.448 1 1s-0.448 1-1 1z\"></path>\n<path d=\"M23 18h-14c-0.552 0-1-0.448-1-1s0.448-1 1-1h14c0.552 0 1 0.448 1 1s-0.448 1-1 1z\"></path>\n</symbol>\n</defs>\n</svg>\n<style>/* CSS stylesheet for displaying xarray objects in jupyterlab.\n *\n */\n\n:root {\n  --xr-font-color0: var(--jp-content-font-color0, rgba(0, 0, 0, 1));\n  --xr-font-color2: var(--jp-content-font-color2, rgba(0, 0, 0, 0.54));\n  --xr-font-color3: var(--jp-content-font-color3, rgba(0, 0, 0, 0.38));\n  --xr-border-color: var(--jp-border-color2, #e0e0e0);\n  --xr-disabled-color: var(--jp-layout-color3, #bdbdbd);\n  --xr-background-color: var(--jp-layout-color0, white);\n  --xr-background-color-row-even: var(--jp-layout-color1, white);\n  --xr-background-color-row-odd: var(--jp-layout-color2, #eeeeee);\n}\n\nhtml[theme=dark],\nbody.vscode-dark {\n  --xr-font-color0: rgba(255, 255, 255, 1);\n  --xr-font-color2: rgba(255, 255, 255, 0.54);\n  --xr-font-color3: rgba(255, 255, 255, 0.38);\n  --xr-border-color: #1F1F1F;\n  --xr-disabled-color: #515151;\n  --xr-background-color: #111111;\n  --xr-background-color-row-even: #111111;\n  --xr-background-color-row-odd: #313131;\n}\n\n.xr-wrap {\n  display: block;\n  min-width: 300px;\n  max-width: 700px;\n}\n\n.xr-text-repr-fallback {\n  /* fallback to plain text repr when CSS is not injected (untrusted notebook) */\n  display: none;\n}\n\n.xr-header {\n  padding-top: 6px;\n  padding-bottom: 6px;\n  margin-bottom: 4px;\n  border-bottom: solid 1px var(--xr-border-color);\n}\n\n.xr-header > div,\n.xr-header > ul {\n  display: inline;\n  margin-top: 0;\n  margin-bottom: 0;\n}\n\n.xr-obj-type,\n.xr-array-name {\n  margin-left: 2px;\n  margin-right: 10px;\n}\n\n.xr-obj-type {\n  color: var(--xr-font-color2);\n}\n\n.xr-sections {\n  padding-left: 0 !important;\n  display: grid;\n  grid-template-columns: 150px auto auto 1fr 20px 20px;\n}\n\n.xr-section-item {\n  display: contents;\n}\n\n.xr-section-item input {\n  display: none;\n}\n\n.xr-section-item input + label {\n  color: var(--xr-disabled-color);\n}\n\n.xr-section-item input:enabled + label {\n  cursor: pointer;\n  color: var(--xr-font-color2);\n}\n\n.xr-section-item input:enabled + label:hover {\n  color: var(--xr-font-color0);\n}\n\n.xr-section-summary {\n  grid-column: 1;\n  color: var(--xr-font-color2);\n  font-weight: 500;\n}\n\n.xr-section-summary > span {\n  display: inline-block;\n  padding-left: 0.5em;\n}\n\n.xr-section-summary-in:disabled + label {\n  color: var(--xr-font-color2);\n}\n\n.xr-section-summary-in + label:before {\n  display: inline-block;\n  content: '►';\n  font-size: 11px;\n  width: 15px;\n  text-align: center;\n}\n\n.xr-section-summary-in:disabled + label:before {\n  color: var(--xr-disabled-color);\n}\n\n.xr-section-summary-in:checked + label:before {\n  content: '▼';\n}\n\n.xr-section-summary-in:checked + label > span {\n  display: none;\n}\n\n.xr-section-summary,\n.xr-section-inline-details {\n  padding-top: 4px;\n  padding-bottom: 4px;\n}\n\n.xr-section-inline-details {\n  grid-column: 2 / -1;\n}\n\n.xr-section-details {\n  display: none;\n  grid-column: 1 / -1;\n  margin-bottom: 5px;\n}\n\n.xr-section-summary-in:checked ~ .xr-section-details {\n  display: contents;\n}\n\n.xr-array-wrap {\n  grid-column: 1 / -1;\n  display: grid;\n  grid-template-columns: 20px auto;\n}\n\n.xr-array-wrap > label {\n  grid-column: 1;\n  vertical-align: top;\n}\n\n.xr-preview {\n  color: var(--xr-font-color3);\n}\n\n.xr-array-preview,\n.xr-array-data {\n  padding: 0 5px !important;\n  grid-column: 2;\n}\n\n.xr-array-data,\n.xr-array-in:checked ~ .xr-array-preview {\n  display: none;\n}\n\n.xr-array-in:checked ~ .xr-array-data,\n.xr-array-preview {\n  display: inline-block;\n}\n\n.xr-dim-list {\n  display: inline-block !important;\n  list-style: none;\n  padding: 0 !important;\n  margin: 0;\n}\n\n.xr-dim-list li {\n  display: inline-block;\n  padding: 0;\n  margin: 0;\n}\n\n.xr-dim-list:before {\n  content: '(';\n}\n\n.xr-dim-list:after {\n  content: ')';\n}\n\n.xr-dim-list li:not(:last-child):after {\n  content: ',';\n  padding-right: 5px;\n}\n\n.xr-has-index {\n  font-weight: bold;\n}\n\n.xr-var-list,\n.xr-var-item {\n  display: contents;\n}\n\n.xr-var-item > div,\n.xr-var-item label,\n.xr-var-item > .xr-var-name span {\n  background-color: var(--xr-background-color-row-even);\n  margin-bottom: 0;\n}\n\n.xr-var-item > .xr-var-name:hover span {\n  padding-right: 5px;\n}\n\n.xr-var-list > li:nth-child(odd) > div,\n.xr-var-list > li:nth-child(odd) > label,\n.xr-var-list > li:nth-child(odd) > .xr-var-name span {\n  background-color: var(--xr-background-color-row-odd);\n}\n\n.xr-var-name {\n  grid-column: 1;\n}\n\n.xr-var-dims {\n  grid-column: 2;\n}\n\n.xr-var-dtype {\n  grid-column: 3;\n  text-align: right;\n  color: var(--xr-font-color2);\n}\n\n.xr-var-preview {\n  grid-column: 4;\n}\n\n.xr-var-name,\n.xr-var-dims,\n.xr-var-dtype,\n.xr-preview,\n.xr-attrs dt {\n  white-space: nowrap;\n  overflow: hidden;\n  text-overflow: ellipsis;\n  padding-right: 10px;\n}\n\n.xr-var-name:hover,\n.xr-var-dims:hover,\n.xr-var-dtype:hover,\n.xr-attrs dt:hover {\n  overflow: visible;\n  width: auto;\n  z-index: 1;\n}\n\n.xr-var-attrs,\n.xr-var-data {\n  display: none;\n  background-color: var(--xr-background-color) !important;\n  padding-bottom: 5px !important;\n}\n\n.xr-var-attrs-in:checked ~ .xr-var-attrs,\n.xr-var-data-in:checked ~ .xr-var-data {\n  display: block;\n}\n\n.xr-var-data > table {\n  float: right;\n}\n\n.xr-var-name span,\n.xr-var-data,\n.xr-attrs {\n  padding-left: 25px !important;\n}\n\n.xr-attrs,\n.xr-var-attrs,\n.xr-var-data {\n  grid-column: 1 / -1;\n}\n\ndl.xr-attrs {\n  padding: 0;\n  margin: 0;\n  display: grid;\n  grid-template-columns: 125px auto;\n}\n\n.xr-attrs dt,\n.xr-attrs dd {\n  padding: 0;\n  margin: 0;\n  float: left;\n  padding-right: 10px;\n  width: auto;\n}\n\n.xr-attrs dt {\n  font-weight: normal;\n  grid-column: 1;\n}\n\n.xr-attrs dt:hover span {\n  display: inline-block;\n  background: var(--xr-background-color);\n  padding-right: 10px;\n}\n\n.xr-attrs dd {\n  grid-column: 2;\n  white-space: pre-wrap;\n  word-break: break-all;\n}\n\n.xr-icon-database,\n.xr-icon-file-text2 {\n  display: inline-block;\n  vertical-align: middle;\n  width: 1em;\n  height: 1.5em !important;\n  stroke-width: 0;\n  stroke: currentColor;\n  fill: currentColor;\n}\n</style><pre class='xr-text-repr-fallback'>&lt;xarray.Dataset&gt;\nDimensions:    (lat: 89, lon: 180, nbnds: 2, time: 1994)\nCoordinates:\n  * lat        (lat) float32 88.0 86.0 84.0 82.0 ... -82.0 -84.0 -86.0 -88.0\n  * lon        (lon) float32 0.0 2.0 4.0 6.0 8.0 ... 352.0 354.0 356.0 358.0\n  * time       (time) datetime64[ns] 1854-01-01 1854-02-01 ... 2020-02-01\nDimensions without coordinates: nbnds\nData variables:\n    time_bnds  (time, nbnds) float64 dask.array&lt;chunksize=(1994, 2), meta=np.ndarray&gt;\n    err        (time, lat, lon) float32 dask.array&lt;chunksize=(1994, 89, 180), meta=np.ndarray&gt;\nAttributes:\n    title:                           NOAA Extended Reconstructed SST V3\n    Conventions:                     CF-1.0\n    history:                         Thu Jul  1 14:04:15 2010: ncatted -O -a ...\n    comments:                        The extended reconstructed sea surface t...\n    platform:                        Model\n    source:                          NOAA/NESDIS/National Climatic Data Center\n    institution:                     NOAA/NESDIS/National Climatic Data Center\n    citation:                        Smith, T.M., R.W. Reynolds, Thomas C. Pe...\n    dataset_title:                   Extended Reconstructed Sea Surface Tempe...\n    source_doc:                      https://www.ncdc.noaa.gov/data-access/ma...\n    References:                      https://www.psl.noaa.gov/data/gridded/da...\n    DODS_EXTRA.Unlimited_Dimension:  time</pre><div class='xr-wrap' hidden><div class='xr-header'><div class='xr-obj-type'>xarray.Dataset</div></div><ul class='xr-sections'><li class='xr-section-item'><input id='section-7480c7d1-c384-4314-9fda-e3553aaffec1' class='xr-section-summary-in' type='checkbox' disabled ><label for='section-7480c7d1-c384-4314-9fda-e3553aaffec1' class='xr-section-summary'  title='Expand/collapse section'>Dimensions:</label><div class='xr-section-inline-details'><ul class='xr-dim-list'><li><span class='xr-has-index'>lat</span>: 89</li><li><span class='xr-has-index'>lon</span>: 180</li><li><span>nbnds</span>: 2</li><li><span class='xr-has-index'>time</span>: 1994</li></ul></div><div class='xr-section-details'></div></li><li class='xr-section-item'><input id='section-0a56e66e-291b-460b-9403-f8e6adecd73b' class='xr-section-summary-in' type='checkbox'  checked><label for='section-0a56e66e-291b-460b-9403-f8e6adecd73b' class='xr-section-summary' >Coordinates: <span>(3)</span></label><div class='xr-section-inline-details'></div><div class='xr-section-details'><ul class='xr-var-list'><li class='xr-var-item'><div class='xr-var-name'><span class='xr-has-index'>lat</span></div><div class='xr-var-dims'>(lat)</div><div class='xr-var-dtype'>float32</div><div class='xr-var-preview xr-preview'>88.0 86.0 84.0 ... -86.0 -88.0</div><input id='attrs-0e1f70a2-0747-4570-80ca-5d165689e1e2' class='xr-var-attrs-in' type='checkbox' ><label for='attrs-0e1f70a2-0747-4570-80ca-5d165689e1e2' title='Show/Hide attributes'><svg class='icon xr-icon-file-text2'><use xlink:href='#icon-file-text2'></use></svg></label><input id='data-52bb60f1-620d-460a-8272-60c1532af197' class='xr-var-data-in' type='checkbox'><label for='data-52bb60f1-620d-460a-8272-60c1532af197' title='Show/Hide data repr'><svg class='icon xr-icon-database'><use xlink:href='#icon-database'></use></svg></label><div class='xr-var-attrs'><dl class='xr-attrs'><dt><span>units :</span></dt><dd>degrees_north</dd><dt><span>long_name :</span></dt><dd>Latitude</dd><dt><span>actual_range :</span></dt><dd>[88.0, -88.0]</dd><dt><span>standard_name :</span></dt><dd>latitude</dd><dt><span>axis :</span></dt><dd>Y</dd><dt><span>coordinate_defines :</span></dt><dd>center</dd></dl></div><div class='xr-var-data'><pre>array([ 88.,  86.,  84.,  82.,  80.,  78.,  76.,  74.,  72.,  70.,  68.,  66.,\n        64.,  62.,  60.,  58.,  56.,  54.,  52.,  50.,  48.,  46.,  44.,  42.,\n        40.,  38.,  36.,  34.,  32.,  30.,  28.,  26.,  24.,  22.,  20.,  18.,\n        16.,  14.,  12.,  10.,   8.,   6.,   4.,   2.,   0.,  -2.,  -4.,  -6.,\n        -8., -10., -12., -14., -16., -18., -20., -22., -24., -26., -28., -30.,\n       -32., -34., -36., -38., -40., -42., -44., -46., -48., -50., -52., -54.,\n       -56., -58., -60., -62., -64., -66., -68., -70., -72., -74., -76., -78.,\n       -80., -82., -84., -86., -88.], dtype=float32)</pre></div></li><li class='xr-var-item'><div class='xr-var-name'><span class='xr-has-index'>lon</span></div><div class='xr-var-dims'>(lon)</div><div class='xr-var-dtype'>float32</div><div class='xr-var-preview xr-preview'>0.0 2.0 4.0 ... 354.0 356.0 358.0</div><input id='attrs-f647ab0a-befb-413e-a69d-6a252d36e7dd' class='xr-var-attrs-in' type='checkbox' ><label for='attrs-f647ab0a-befb-413e-a69d-6a252d36e7dd' title='Show/Hide attributes'><svg class='icon xr-icon-file-text2'><use xlink:href='#icon-file-text2'></use></svg></label><input id='data-1242e835-92f0-4479-a9fe-f8c09496c4dc' class='xr-var-data-in' type='checkbox'><label for='data-1242e835-92f0-4479-a9fe-f8c09496c4dc' title='Show/Hide data repr'><svg class='icon xr-icon-database'><use xlink:href='#icon-database'></use></svg></label><div class='xr-var-attrs'><dl class='xr-attrs'><dt><span>units :</span></dt><dd>degrees_east</dd><dt><span>long_name :</span></dt><dd>Longitude</dd><dt><span>actual_range :</span></dt><dd>[0.0, 358.0]</dd><dt><span>standard_name :</span></dt><dd>longitude</dd><dt><span>axis :</span></dt><dd>X</dd><dt><span>coordinate_defines :</span></dt><dd>center</dd></dl></div><div class='xr-var-data'><pre>array([  0.,   2.,   4.,   6.,   8.,  10.,  12.,  14.,  16.,  18.,  20.,  22.,\n        24.,  26.,  28.,  30.,  32.,  34.,  36.,  38.,  40.,  42.,  44.,  46.,\n        48.,  50.,  52.,  54.,  56.,  58.,  60.,  62.,  64.,  66.,  68.,  70.,\n        72.,  74.,  76.,  78.,  80.,  82.,  84.,  86.,  88.,  90.,  92.,  94.,\n        96.,  98., 100., 102., 104., 106., 108., 110., 112., 114., 116., 118.,\n       120., 122., 124., 126., 128., 130., 132., 134., 136., 138., 140., 142.,\n       144., 146., 148., 150., 152., 154., 156., 158., 160., 162., 164., 166.,\n       168., 170., 172., 174., 176., 178., 180., 182., 184., 186., 188., 190.,\n       192., 194., 196., 198., 200., 202., 204., 206., 208., 210., 212., 214.,\n       216., 218., 220., 222., 224., 226., 228., 230., 232., 234., 236., 238.,\n       240., 242., 244., 246., 248., 250., 252., 254., 256., 258., 260., 262.,\n       264., 266., 268., 270., 272., 274., 276., 278., 280., 282., 284., 286.,\n       288., 290., 292., 294., 296., 298., 300., 302., 304., 306., 308., 310.,\n       312., 314., 316., 318., 320., 322., 324., 326., 328., 330., 332., 334.,\n       336., 338., 340., 342., 344., 346., 348., 350., 352., 354., 356., 358.],\n      dtype=float32)</pre></div></li><li class='xr-var-item'><div class='xr-var-name'><span class='xr-has-index'>time</span></div><div class='xr-var-dims'>(time)</div><div class='xr-var-dtype'>datetime64[ns]</div><div class='xr-var-preview xr-preview'>1854-01-01 ... 2020-02-01</div><input id='attrs-d3982b93-3330-4dcf-8c31-783125f74df1' class='xr-var-attrs-in' type='checkbox' ><label for='attrs-d3982b93-3330-4dcf-8c31-783125f74df1' title='Show/Hide attributes'><svg class='icon xr-icon-file-text2'><use xlink:href='#icon-file-text2'></use></svg></label><input id='data-41ced193-70cf-4617-b9b2-700a5fbf7725' class='xr-var-data-in' type='checkbox'><label for='data-41ced193-70cf-4617-b9b2-700a5fbf7725' title='Show/Hide data repr'><svg class='icon xr-icon-database'><use xlink:href='#icon-database'></use></svg></label><div class='xr-var-attrs'><dl class='xr-attrs'><dt><span>long_name :</span></dt><dd>Time</dd><dt><span>delta_t :</span></dt><dd>0000-01-00 00:00:00</dd><dt><span>avg_period :</span></dt><dd>0000-01-00 00:00:00</dd><dt><span>prev_avg_period :</span></dt><dd>0000-00-07 00:00:00</dd><dt><span>standard_name :</span></dt><dd>time</dd><dt><span>axis :</span></dt><dd>T</dd><dt><span>actual_range :</span></dt><dd>[19723.0, 80384.0]</dd><dt><span>_ChunkSizes :</span></dt><dd>1</dd></dl></div><div class='xr-var-data'><pre>array([&#x27;1854-01-01T00:00:00.000000000&#x27;, &#x27;1854-02-01T00:00:00.000000000&#x27;,\n       &#x27;1854-03-01T00:00:00.000000000&#x27;, ..., &#x27;2019-12-01T00:00:00.000000000&#x27;,\n       &#x27;2020-01-01T00:00:00.000000000&#x27;, &#x27;2020-02-01T00:00:00.000000000&#x27;],\n      dtype=&#x27;datetime64[ns]&#x27;)</pre></div></li></ul></div></li><li class='xr-section-item'><input id='section-baa7bcdc-c503-44fe-a23a-99182fb0a75b' class='xr-section-summary-in' type='checkbox'  checked><label for='section-baa7bcdc-c503-44fe-a23a-99182fb0a75b' class='xr-section-summary' >Data variables: <span>(2)</span></label><div class='xr-section-inline-details'></div><div class='xr-section-details'><ul class='xr-var-list'><li class='xr-var-item'><div class='xr-var-name'><span>time_bnds</span></div><div class='xr-var-dims'>(time, nbnds)</div><div class='xr-var-dtype'>float64</div><div class='xr-var-preview xr-preview'>dask.array&lt;chunksize=(1994, 2), meta=np.ndarray&gt;</div><input id='attrs-9b09d073-81d0-49c5-9d8f-35c5678a3cb0' class='xr-var-attrs-in' type='checkbox' ><label for='attrs-9b09d073-81d0-49c5-9d8f-35c5678a3cb0' title='Show/Hide attributes'><svg class='icon xr-icon-file-text2'><use xlink:href='#icon-file-text2'></use></svg></label><input id='data-1e6e833d-e8ed-47dc-908b-a0bd5808026e' class='xr-var-data-in' type='checkbox'><label for='data-1e6e833d-e8ed-47dc-908b-a0bd5808026e' title='Show/Hide data repr'><svg class='icon xr-icon-database'><use xlink:href='#icon-database'></use></svg></label><div class='xr-var-attrs'><dl class='xr-attrs'><dt><span>long_name :</span></dt><dd>Time Boundaries</dd><dt><span>_ChunkSizes :</span></dt><dd>[1, 2]</dd></dl></div><div class='xr-var-data'><table>\n<tr>\n<td>\n<table>\n  <thead>\n    <tr><td> </td><th> Array </th><th> Chunk </th></tr>\n  </thead>\n  <tbody>\n    <tr><th> Bytes </th><td> 31.16 kiB </td> <td> 31.16 kiB </td></tr>\n    <tr><th> Shape </th><td> (1994, 2) </td> <td> (1994, 2) </td></tr>\n    <tr><th> Count </th><td> 2 Tasks </td><td> 1 Chunks </td></tr>\n    <tr><th> Type </th><td> float64 </td><td> numpy.ndarray </td></tr>\n  </tbody>\n</table>\n</td>\n<td>\n<svg width=\"75\" height=\"170\" style=\"stroke:rgb(0,0,0);stroke-width:1\" >\n\n  <!-- Horizontal lines -->\n  <line x1=\"0\" y1=\"0\" x2=\"25\" y2=\"0\" style=\"stroke-width:2\" />\n  <line x1=\"0\" y1=\"120\" x2=\"25\" y2=\"120\" style=\"stroke-width:2\" />\n\n  <!-- Vertical lines -->\n  <line x1=\"0\" y1=\"0\" x2=\"0\" y2=\"120\" style=\"stroke-width:2\" />\n  <line x1=\"25\" y1=\"0\" x2=\"25\" y2=\"120\" style=\"stroke-width:2\" />\n\n  <!-- Colored Rectangle -->\n  <polygon points=\"0.0,0.0 25.412616514582485,0.0 25.412616514582485,120.0 0.0,120.0\" style=\"fill:#ECB172A0;stroke-width:0\"/>\n\n  <!-- Text -->\n  <text x=\"12.706308\" y=\"140.000000\" font-size=\"1.0rem\" font-weight=\"100\" text-anchor=\"middle\" >2</text>\n  <text x=\"45.412617\" y=\"60.000000\" font-size=\"1.0rem\" font-weight=\"100\" text-anchor=\"middle\" transform=\"rotate(-90,45.412617,60.000000)\">1994</text>\n</svg>\n</td>\n</tr>\n</table></div></li><li class='xr-var-item'><div class='xr-var-name'><span>err</span></div><div class='xr-var-dims'>(time, lat, lon)</div><div class='xr-var-dtype'>float32</div><div class='xr-var-preview xr-preview'>dask.array&lt;chunksize=(1994, 89, 180), meta=np.ndarray&gt;</div><input id='attrs-853e5787-334d-438b-807e-53b36b3af12b' class='xr-var-attrs-in' type='checkbox' ><label for='attrs-853e5787-334d-438b-807e-53b36b3af12b' title='Show/Hide attributes'><svg class='icon xr-icon-file-text2'><use xlink:href='#icon-file-text2'></use></svg></label><input id='data-0a702276-0cc8-43bc-a680-a3ae1b726c68' class='xr-var-data-in' type='checkbox'><label for='data-0a702276-0cc8-43bc-a680-a3ae1b726c68' title='Show/Hide data repr'><svg class='icon xr-icon-database'><use xlink:href='#icon-database'></use></svg></label><div class='xr-var-attrs'><dl class='xr-attrs'><dt><span>long_name :</span></dt><dd>Monthly Mean Error Estimate of Sea Surface Temperature</dd><dt><span>units :</span></dt><dd>-</dd><dt><span>precision :</span></dt><dd>2</dd><dt><span>least_significant_digit :</span></dt><dd>1</dd><dt><span>var_desc :</span></dt><dd>Normalized Error Variance</dd><dt><span>dataset :</span></dt><dd>NOAA Extended Reconstructed SST V3</dd><dt><span>level_desc :</span></dt><dd>Surface</dd><dt><span>statistic :</span></dt><dd>Mean</dd><dt><span>parent_stat :</span></dt><dd>Mean</dd><dt><span>actual_range :</span></dt><dd>[0.04, 1.0]</dd><dt><span>valid_range :</span></dt><dd>[0.0, 1.0]</dd><dt><span>_ChunkSizes :</span></dt><dd>[1, 89, 180]</dd></dl></div><div class='xr-var-data'><table>\n<tr>\n<td>\n<table>\n  <thead>\n    <tr><td> </td><th> Array </th><th> Chunk </th></tr>\n  </thead>\n  <tbody>\n    <tr><th> Bytes </th><td> 121.86 MiB </td> <td> 121.86 MiB </td></tr>\n    <tr><th> Shape </th><td> (1994, 89, 180) </td> <td> (1994, 89, 180) </td></tr>\n    <tr><th> Count </th><td> 2 Tasks </td><td> 1 Chunks </td></tr>\n    <tr><th> Type </th><td> float32 </td><td> numpy.ndarray </td></tr>\n  </tbody>\n</table>\n</td>\n<td>\n<svg width=\"168\" height=\"154\" style=\"stroke:rgb(0,0,0);stroke-width:1\" >\n\n  <!-- Horizontal lines -->\n  <line x1=\"10\" y1=\"0\" x2=\"80\" y2=\"70\" style=\"stroke-width:2\" />\n  <line x1=\"10\" y1=\"33\" x2=\"80\" y2=\"104\" style=\"stroke-width:2\" />\n\n  <!-- Vertical lines -->\n  <line x1=\"10\" y1=\"0\" x2=\"10\" y2=\"33\" style=\"stroke-width:2\" />\n  <line x1=\"80\" y1=\"70\" x2=\"80\" y2=\"104\" style=\"stroke-width:2\" />\n\n  <!-- Colored Rectangle -->\n  <polygon points=\"10.0,0.0 80.58823529411765,70.58823529411765 80.58823529411765,104.39346591422614 10.0,33.80523062010849\" style=\"fill:#ECB172A0;stroke-width:0\"/>\n\n  <!-- Horizontal lines -->\n  <line x1=\"10\" y1=\"0\" x2=\"48\" y2=\"0\" style=\"stroke-width:2\" />\n  <line x1=\"80\" y1=\"70\" x2=\"118\" y2=\"70\" style=\"stroke-width:2\" />\n\n  <!-- Vertical lines -->\n  <line x1=\"10\" y1=\"0\" x2=\"80\" y2=\"70\" style=\"stroke-width:2\" />\n  <line x1=\"48\" y1=\"0\" x2=\"118\" y2=\"70\" style=\"stroke-width:2\" />\n\n  <!-- Colored Rectangle -->\n  <polygon points=\"10.0,0.0 48.02215893500061,0.0 118.61039422911827,70.58823529411765 80.58823529411765,70.58823529411765\" style=\"fill:#ECB172A0;stroke-width:0\"/>\n\n  <!-- Horizontal lines -->\n  <line x1=\"80\" y1=\"70\" x2=\"118\" y2=\"70\" style=\"stroke-width:2\" />\n  <line x1=\"80\" y1=\"104\" x2=\"118\" y2=\"104\" style=\"stroke-width:2\" />\n\n  <!-- Vertical lines -->\n  <line x1=\"80\" y1=\"70\" x2=\"80\" y2=\"104\" style=\"stroke-width:2\" />\n  <line x1=\"118\" y1=\"70\" x2=\"118\" y2=\"104\" style=\"stroke-width:2\" />\n\n  <!-- Colored Rectangle -->\n  <polygon points=\"80.58823529411765,70.58823529411765 118.61039422911827,70.58823529411765 118.61039422911827,104.39346591422614 80.58823529411765,104.39346591422614\" style=\"fill:#ECB172A0;stroke-width:0\"/>\n\n  <!-- Text -->\n  <text x=\"99.599315\" y=\"124.393466\" font-size=\"1.0rem\" font-weight=\"100\" text-anchor=\"middle\" >180</text>\n  <text x=\"138.610394\" y=\"87.490851\" font-size=\"1.0rem\" font-weight=\"100\" text-anchor=\"middle\" transform=\"rotate(0,138.610394,87.490851)\">89</text>\n  <text x=\"35.294118\" y=\"89.099348\" font-size=\"1.0rem\" font-weight=\"100\" text-anchor=\"middle\" transform=\"rotate(45,35.294118,89.099348)\">1994</text>\n</svg>\n</td>\n</tr>\n</table></div></li></ul></div></li><li class='xr-section-item'><input id='section-d40c3092-cf8a-48f4-9686-a5e04d9ef516' class='xr-section-summary-in' type='checkbox'  ><label for='section-d40c3092-cf8a-48f4-9686-a5e04d9ef516' class='xr-section-summary' >Attributes: <span>(12)</span></label><div class='xr-section-inline-details'></div><div class='xr-section-details'><dl class='xr-attrs'><dt><span>title :</span></dt><dd>NOAA Extended Reconstructed SST V3</dd><dt><span>Conventions :</span></dt><dd>CF-1.0</dd><dt><span>history :</span></dt><dd>Thu Jul  1 14:04:15 2010: ncatted -O -a _FillValue,err,o,s,32767 err.mnmean.v3b.nc\ncreated 09/2007 by CAS</dd><dt><span>comments :</span></dt><dd>The extended reconstructed sea surface temperature (ERSST)\nwas constructed using the most recently available \nComprehensive Ocean-Atmosphere Data Set (COADS) SST data \nand improved statistical methods that allow stable \nreconstruction using sparse data.Currently, ERSST version 2 ( ERSST.v2 ) and version 3 ( ERSST.v3 ) are available from NCDC.\nERSST.v3 is an improved extended reconstruction over version 2.\nMost of the improvements are justified by testing with simulated data.\nThe major differences are caused by the improved low-frequency ( LF ) tuning of ERSST.v3 \nwhich reduces the SST anomaly damping before 1930 using the optimized parameters.\nBeginning in 1985, ERSST.v3 is also improved by explicitly including\nbias-adjusted satellite infrared data from AVHRR.</dd><dt><span>platform :</span></dt><dd>Model</dd><dt><span>source :</span></dt><dd>NOAA/NESDIS/National Climatic Data Center</dd><dt><span>institution :</span></dt><dd>NOAA/NESDIS/National Climatic Data Center</dd><dt><span>citation :</span></dt><dd>Smith, T.M., R.W. Reynolds, Thomas C. Peterson, and Jay Lawrimore 2007: Improvements to NOAA&#x27;s Historical Merged Land-Ocean Surface Temperature lysis (1880-2006). In press. Journal of Climate (ERSSTV3).\nSmith, T.M., and R.W. Reynolds, 2003: Extended Reconstruction of Global Sea Surface Temperatures Based on COADS Data (1854-1997). Journal of Climate, 16, 1495-1510. ERSSTV1\nSmith, T.M., and R.W. Reynolds, 2004: Improved Extended Reconstruction of SST (1854-1997). Journal of Climate, 17, 2466-2477.ERSSTv2</dd><dt><span>dataset_title :</span></dt><dd>Extended Reconstructed Sea Surface Temperature (ERSST)</dd><dt><span>source_doc :</span></dt><dd>https://www.ncdc.noaa.gov/data-access/marineocean-data/extended-reconstructed-sea-surface-temperature-ersst-v3b</dd><dt><span>References :</span></dt><dd>https://www.psl.noaa.gov/data/gridded/data.noaa.ersst.html</dd><dt><span>DODS_EXTRA.Unlimited_Dimension :</span></dt><dd>time</dd></dl></div></li></ul></div></div>"
     },
     "metadata": {},
     "execution_count": 7
    }
   ],
   "source": [
    "%%time\n",
    "ds = source().to_dask()\n",
    "ds"
   ]
  },
  {
   "cell_type": "markdown",
   "id": "extensive-egypt",
   "metadata": {},
   "source": [
    "The `to_dask()` reads only metadata needed to construct an ``xarray.Dataset``. The actual data are streamed over the network when computation routines are invoked on the dataset. \n",
    "By default, `intake-thredds` uses ``chunks={}`` to load the dataset with dask using a single chunk for all arrays. You can use a different chunking scheme by prividing a custom value of chunks before calling `.to_dask()`:"
   ]
  },
  {
   "cell_type": "code",
   "execution_count": 8,
   "id": "serial-chassis",
   "metadata": {},
   "outputs": [
    {
     "output_type": "stream",
     "name": "stdout",
     "text": [
      "CPU times: user 201 ms, sys: 19.9 ms, total: 221 ms\nWall time: 3.93 s\n"
     ]
    },
    {
     "output_type": "execute_result",
     "data": {
      "text/plain": [
       "<xarray.Dataset>\n",
       "Dimensions:    (lat: 89, lon: 180, nbnds: 2, time: 1994)\n",
       "Coordinates:\n",
       "  * lat        (lat) float32 88.0 86.0 84.0 82.0 ... -82.0 -84.0 -86.0 -88.0\n",
       "  * lon        (lon) float32 0.0 2.0 4.0 6.0 8.0 ... 352.0 354.0 356.0 358.0\n",
       "  * time       (time) datetime64[ns] 1854-01-01 1854-02-01 ... 2020-02-01\n",
       "Dimensions without coordinates: nbnds\n",
       "Data variables:\n",
       "    time_bnds  (time, nbnds) float64 dask.array<chunksize=(100, 2), meta=np.ndarray>\n",
       "    err        (time, lat, lon) float32 dask.array<chunksize=(100, 89, 90), meta=np.ndarray>\n",
       "Attributes:\n",
       "    title:                           NOAA Extended Reconstructed SST V3\n",
       "    Conventions:                     CF-1.0\n",
       "    history:                         Thu Jul  1 14:04:15 2010: ncatted -O -a ...\n",
       "    comments:                        The extended reconstructed sea surface t...\n",
       "    platform:                        Model\n",
       "    source:                          NOAA/NESDIS/National Climatic Data Center\n",
       "    institution:                     NOAA/NESDIS/National Climatic Data Center\n",
       "    citation:                        Smith, T.M., R.W. Reynolds, Thomas C. Pe...\n",
       "    dataset_title:                   Extended Reconstructed Sea Surface Tempe...\n",
       "    source_doc:                      https://www.ncdc.noaa.gov/data-access/ma...\n",
       "    References:                      https://www.psl.noaa.gov/data/gridded/da...\n",
       "    DODS_EXTRA.Unlimited_Dimension:  time"
      ],
      "text/html": "<div><svg style=\"position: absolute; width: 0; height: 0; overflow: hidden\">\n<defs>\n<symbol id=\"icon-database\" viewBox=\"0 0 32 32\">\n<path d=\"M16 0c-8.837 0-16 2.239-16 5v4c0 2.761 7.163 5 16 5s16-2.239 16-5v-4c0-2.761-7.163-5-16-5z\"></path>\n<path d=\"M16 17c-8.837 0-16-2.239-16-5v6c0 2.761 7.163 5 16 5s16-2.239 16-5v-6c0 2.761-7.163 5-16 5z\"></path>\n<path d=\"M16 26c-8.837 0-16-2.239-16-5v6c0 2.761 7.163 5 16 5s16-2.239 16-5v-6c0 2.761-7.163 5-16 5z\"></path>\n</symbol>\n<symbol id=\"icon-file-text2\" viewBox=\"0 0 32 32\">\n<path d=\"M28.681 7.159c-0.694-0.947-1.662-2.053-2.724-3.116s-2.169-2.030-3.116-2.724c-1.612-1.182-2.393-1.319-2.841-1.319h-15.5c-1.378 0-2.5 1.121-2.5 2.5v27c0 1.378 1.122 2.5 2.5 2.5h23c1.378 0 2.5-1.122 2.5-2.5v-19.5c0-0.448-0.137-1.23-1.319-2.841zM24.543 5.457c0.959 0.959 1.712 1.825 2.268 2.543h-4.811v-4.811c0.718 0.556 1.584 1.309 2.543 2.268zM28 29.5c0 0.271-0.229 0.5-0.5 0.5h-23c-0.271 0-0.5-0.229-0.5-0.5v-27c0-0.271 0.229-0.5 0.5-0.5 0 0 15.499-0 15.5 0v7c0 0.552 0.448 1 1 1h7v19.5z\"></path>\n<path d=\"M23 26h-14c-0.552 0-1-0.448-1-1s0.448-1 1-1h14c0.552 0 1 0.448 1 1s-0.448 1-1 1z\"></path>\n<path d=\"M23 22h-14c-0.552 0-1-0.448-1-1s0.448-1 1-1h14c0.552 0 1 0.448 1 1s-0.448 1-1 1z\"></path>\n<path d=\"M23 18h-14c-0.552 0-1-0.448-1-1s0.448-1 1-1h14c0.552 0 1 0.448 1 1s-0.448 1-1 1z\"></path>\n</symbol>\n</defs>\n</svg>\n<style>/* CSS stylesheet for displaying xarray objects in jupyterlab.\n *\n */\n\n:root {\n  --xr-font-color0: var(--jp-content-font-color0, rgba(0, 0, 0, 1));\n  --xr-font-color2: var(--jp-content-font-color2, rgba(0, 0, 0, 0.54));\n  --xr-font-color3: var(--jp-content-font-color3, rgba(0, 0, 0, 0.38));\n  --xr-border-color: var(--jp-border-color2, #e0e0e0);\n  --xr-disabled-color: var(--jp-layout-color3, #bdbdbd);\n  --xr-background-color: var(--jp-layout-color0, white);\n  --xr-background-color-row-even: var(--jp-layout-color1, white);\n  --xr-background-color-row-odd: var(--jp-layout-color2, #eeeeee);\n}\n\nhtml[theme=dark],\nbody.vscode-dark {\n  --xr-font-color0: rgba(255, 255, 255, 1);\n  --xr-font-color2: rgba(255, 255, 255, 0.54);\n  --xr-font-color3: rgba(255, 255, 255, 0.38);\n  --xr-border-color: #1F1F1F;\n  --xr-disabled-color: #515151;\n  --xr-background-color: #111111;\n  --xr-background-color-row-even: #111111;\n  --xr-background-color-row-odd: #313131;\n}\n\n.xr-wrap {\n  display: block;\n  min-width: 300px;\n  max-width: 700px;\n}\n\n.xr-text-repr-fallback {\n  /* fallback to plain text repr when CSS is not injected (untrusted notebook) */\n  display: none;\n}\n\n.xr-header {\n  padding-top: 6px;\n  padding-bottom: 6px;\n  margin-bottom: 4px;\n  border-bottom: solid 1px var(--xr-border-color);\n}\n\n.xr-header > div,\n.xr-header > ul {\n  display: inline;\n  margin-top: 0;\n  margin-bottom: 0;\n}\n\n.xr-obj-type,\n.xr-array-name {\n  margin-left: 2px;\n  margin-right: 10px;\n}\n\n.xr-obj-type {\n  color: var(--xr-font-color2);\n}\n\n.xr-sections {\n  padding-left: 0 !important;\n  display: grid;\n  grid-template-columns: 150px auto auto 1fr 20px 20px;\n}\n\n.xr-section-item {\n  display: contents;\n}\n\n.xr-section-item input {\n  display: none;\n}\n\n.xr-section-item input + label {\n  color: var(--xr-disabled-color);\n}\n\n.xr-section-item input:enabled + label {\n  cursor: pointer;\n  color: var(--xr-font-color2);\n}\n\n.xr-section-item input:enabled + label:hover {\n  color: var(--xr-font-color0);\n}\n\n.xr-section-summary {\n  grid-column: 1;\n  color: var(--xr-font-color2);\n  font-weight: 500;\n}\n\n.xr-section-summary > span {\n  display: inline-block;\n  padding-left: 0.5em;\n}\n\n.xr-section-summary-in:disabled + label {\n  color: var(--xr-font-color2);\n}\n\n.xr-section-summary-in + label:before {\n  display: inline-block;\n  content: '►';\n  font-size: 11px;\n  width: 15px;\n  text-align: center;\n}\n\n.xr-section-summary-in:disabled + label:before {\n  color: var(--xr-disabled-color);\n}\n\n.xr-section-summary-in:checked + label:before {\n  content: '▼';\n}\n\n.xr-section-summary-in:checked + label > span {\n  display: none;\n}\n\n.xr-section-summary,\n.xr-section-inline-details {\n  padding-top: 4px;\n  padding-bottom: 4px;\n}\n\n.xr-section-inline-details {\n  grid-column: 2 / -1;\n}\n\n.xr-section-details {\n  display: none;\n  grid-column: 1 / -1;\n  margin-bottom: 5px;\n}\n\n.xr-section-summary-in:checked ~ .xr-section-details {\n  display: contents;\n}\n\n.xr-array-wrap {\n  grid-column: 1 / -1;\n  display: grid;\n  grid-template-columns: 20px auto;\n}\n\n.xr-array-wrap > label {\n  grid-column: 1;\n  vertical-align: top;\n}\n\n.xr-preview {\n  color: var(--xr-font-color3);\n}\n\n.xr-array-preview,\n.xr-array-data {\n  padding: 0 5px !important;\n  grid-column: 2;\n}\n\n.xr-array-data,\n.xr-array-in:checked ~ .xr-array-preview {\n  display: none;\n}\n\n.xr-array-in:checked ~ .xr-array-data,\n.xr-array-preview {\n  display: inline-block;\n}\n\n.xr-dim-list {\n  display: inline-block !important;\n  list-style: none;\n  padding: 0 !important;\n  margin: 0;\n}\n\n.xr-dim-list li {\n  display: inline-block;\n  padding: 0;\n  margin: 0;\n}\n\n.xr-dim-list:before {\n  content: '(';\n}\n\n.xr-dim-list:after {\n  content: ')';\n}\n\n.xr-dim-list li:not(:last-child):after {\n  content: ',';\n  padding-right: 5px;\n}\n\n.xr-has-index {\n  font-weight: bold;\n}\n\n.xr-var-list,\n.xr-var-item {\n  display: contents;\n}\n\n.xr-var-item > div,\n.xr-var-item label,\n.xr-var-item > .xr-var-name span {\n  background-color: var(--xr-background-color-row-even);\n  margin-bottom: 0;\n}\n\n.xr-var-item > .xr-var-name:hover span {\n  padding-right: 5px;\n}\n\n.xr-var-list > li:nth-child(odd) > div,\n.xr-var-list > li:nth-child(odd) > label,\n.xr-var-list > li:nth-child(odd) > .xr-var-name span {\n  background-color: var(--xr-background-color-row-odd);\n}\n\n.xr-var-name {\n  grid-column: 1;\n}\n\n.xr-var-dims {\n  grid-column: 2;\n}\n\n.xr-var-dtype {\n  grid-column: 3;\n  text-align: right;\n  color: var(--xr-font-color2);\n}\n\n.xr-var-preview {\n  grid-column: 4;\n}\n\n.xr-var-name,\n.xr-var-dims,\n.xr-var-dtype,\n.xr-preview,\n.xr-attrs dt {\n  white-space: nowrap;\n  overflow: hidden;\n  text-overflow: ellipsis;\n  padding-right: 10px;\n}\n\n.xr-var-name:hover,\n.xr-var-dims:hover,\n.xr-var-dtype:hover,\n.xr-attrs dt:hover {\n  overflow: visible;\n  width: auto;\n  z-index: 1;\n}\n\n.xr-var-attrs,\n.xr-var-data {\n  display: none;\n  background-color: var(--xr-background-color) !important;\n  padding-bottom: 5px !important;\n}\n\n.xr-var-attrs-in:checked ~ .xr-var-attrs,\n.xr-var-data-in:checked ~ .xr-var-data {\n  display: block;\n}\n\n.xr-var-data > table {\n  float: right;\n}\n\n.xr-var-name span,\n.xr-var-data,\n.xr-attrs {\n  padding-left: 25px !important;\n}\n\n.xr-attrs,\n.xr-var-attrs,\n.xr-var-data {\n  grid-column: 1 / -1;\n}\n\ndl.xr-attrs {\n  padding: 0;\n  margin: 0;\n  display: grid;\n  grid-template-columns: 125px auto;\n}\n\n.xr-attrs dt,\n.xr-attrs dd {\n  padding: 0;\n  margin: 0;\n  float: left;\n  padding-right: 10px;\n  width: auto;\n}\n\n.xr-attrs dt {\n  font-weight: normal;\n  grid-column: 1;\n}\n\n.xr-attrs dt:hover span {\n  display: inline-block;\n  background: var(--xr-background-color);\n  padding-right: 10px;\n}\n\n.xr-attrs dd {\n  grid-column: 2;\n  white-space: pre-wrap;\n  word-break: break-all;\n}\n\n.xr-icon-database,\n.xr-icon-file-text2 {\n  display: inline-block;\n  vertical-align: middle;\n  width: 1em;\n  height: 1.5em !important;\n  stroke-width: 0;\n  stroke: currentColor;\n  fill: currentColor;\n}\n</style><pre class='xr-text-repr-fallback'>&lt;xarray.Dataset&gt;\nDimensions:    (lat: 89, lon: 180, nbnds: 2, time: 1994)\nCoordinates:\n  * lat        (lat) float32 88.0 86.0 84.0 82.0 ... -82.0 -84.0 -86.0 -88.0\n  * lon        (lon) float32 0.0 2.0 4.0 6.0 8.0 ... 352.0 354.0 356.0 358.0\n  * time       (time) datetime64[ns] 1854-01-01 1854-02-01 ... 2020-02-01\nDimensions without coordinates: nbnds\nData variables:\n    time_bnds  (time, nbnds) float64 dask.array&lt;chunksize=(100, 2), meta=np.ndarray&gt;\n    err        (time, lat, lon) float32 dask.array&lt;chunksize=(100, 89, 90), meta=np.ndarray&gt;\nAttributes:\n    title:                           NOAA Extended Reconstructed SST V3\n    Conventions:                     CF-1.0\n    history:                         Thu Jul  1 14:04:15 2010: ncatted -O -a ...\n    comments:                        The extended reconstructed sea surface t...\n    platform:                        Model\n    source:                          NOAA/NESDIS/National Climatic Data Center\n    institution:                     NOAA/NESDIS/National Climatic Data Center\n    citation:                        Smith, T.M., R.W. Reynolds, Thomas C. Pe...\n    dataset_title:                   Extended Reconstructed Sea Surface Tempe...\n    source_doc:                      https://www.ncdc.noaa.gov/data-access/ma...\n    References:                      https://www.psl.noaa.gov/data/gridded/da...\n    DODS_EXTRA.Unlimited_Dimension:  time</pre><div class='xr-wrap' hidden><div class='xr-header'><div class='xr-obj-type'>xarray.Dataset</div></div><ul class='xr-sections'><li class='xr-section-item'><input id='section-d09446d6-d705-47b8-91ff-e5612b3343e9' class='xr-section-summary-in' type='checkbox' disabled ><label for='section-d09446d6-d705-47b8-91ff-e5612b3343e9' class='xr-section-summary'  title='Expand/collapse section'>Dimensions:</label><div class='xr-section-inline-details'><ul class='xr-dim-list'><li><span class='xr-has-index'>lat</span>: 89</li><li><span class='xr-has-index'>lon</span>: 180</li><li><span>nbnds</span>: 2</li><li><span class='xr-has-index'>time</span>: 1994</li></ul></div><div class='xr-section-details'></div></li><li class='xr-section-item'><input id='section-90fb40c5-2e61-4ed5-bf00-ee201b47dde4' class='xr-section-summary-in' type='checkbox'  checked><label for='section-90fb40c5-2e61-4ed5-bf00-ee201b47dde4' class='xr-section-summary' >Coordinates: <span>(3)</span></label><div class='xr-section-inline-details'></div><div class='xr-section-details'><ul class='xr-var-list'><li class='xr-var-item'><div class='xr-var-name'><span class='xr-has-index'>lat</span></div><div class='xr-var-dims'>(lat)</div><div class='xr-var-dtype'>float32</div><div class='xr-var-preview xr-preview'>88.0 86.0 84.0 ... -86.0 -88.0</div><input id='attrs-6e39c0a3-da49-4a88-a39a-a9671fe3e432' class='xr-var-attrs-in' type='checkbox' ><label for='attrs-6e39c0a3-da49-4a88-a39a-a9671fe3e432' title='Show/Hide attributes'><svg class='icon xr-icon-file-text2'><use xlink:href='#icon-file-text2'></use></svg></label><input id='data-45029988-4391-46a3-b431-642a659cfddb' class='xr-var-data-in' type='checkbox'><label for='data-45029988-4391-46a3-b431-642a659cfddb' title='Show/Hide data repr'><svg class='icon xr-icon-database'><use xlink:href='#icon-database'></use></svg></label><div class='xr-var-attrs'><dl class='xr-attrs'><dt><span>units :</span></dt><dd>degrees_north</dd><dt><span>long_name :</span></dt><dd>Latitude</dd><dt><span>actual_range :</span></dt><dd>[88.0, -88.0]</dd><dt><span>standard_name :</span></dt><dd>latitude</dd><dt><span>axis :</span></dt><dd>Y</dd><dt><span>coordinate_defines :</span></dt><dd>center</dd></dl></div><div class='xr-var-data'><pre>array([ 88.,  86.,  84.,  82.,  80.,  78.,  76.,  74.,  72.,  70.,  68.,  66.,\n        64.,  62.,  60.,  58.,  56.,  54.,  52.,  50.,  48.,  46.,  44.,  42.,\n        40.,  38.,  36.,  34.,  32.,  30.,  28.,  26.,  24.,  22.,  20.,  18.,\n        16.,  14.,  12.,  10.,   8.,   6.,   4.,   2.,   0.,  -2.,  -4.,  -6.,\n        -8., -10., -12., -14., -16., -18., -20., -22., -24., -26., -28., -30.,\n       -32., -34., -36., -38., -40., -42., -44., -46., -48., -50., -52., -54.,\n       -56., -58., -60., -62., -64., -66., -68., -70., -72., -74., -76., -78.,\n       -80., -82., -84., -86., -88.], dtype=float32)</pre></div></li><li class='xr-var-item'><div class='xr-var-name'><span class='xr-has-index'>lon</span></div><div class='xr-var-dims'>(lon)</div><div class='xr-var-dtype'>float32</div><div class='xr-var-preview xr-preview'>0.0 2.0 4.0 ... 354.0 356.0 358.0</div><input id='attrs-bed07583-f083-459e-9204-91598821d651' class='xr-var-attrs-in' type='checkbox' ><label for='attrs-bed07583-f083-459e-9204-91598821d651' title='Show/Hide attributes'><svg class='icon xr-icon-file-text2'><use xlink:href='#icon-file-text2'></use></svg></label><input id='data-f6713679-5520-45d6-988e-ab66d4f76a94' class='xr-var-data-in' type='checkbox'><label for='data-f6713679-5520-45d6-988e-ab66d4f76a94' title='Show/Hide data repr'><svg class='icon xr-icon-database'><use xlink:href='#icon-database'></use></svg></label><div class='xr-var-attrs'><dl class='xr-attrs'><dt><span>units :</span></dt><dd>degrees_east</dd><dt><span>long_name :</span></dt><dd>Longitude</dd><dt><span>actual_range :</span></dt><dd>[0.0, 358.0]</dd><dt><span>standard_name :</span></dt><dd>longitude</dd><dt><span>axis :</span></dt><dd>X</dd><dt><span>coordinate_defines :</span></dt><dd>center</dd></dl></div><div class='xr-var-data'><pre>array([  0.,   2.,   4.,   6.,   8.,  10.,  12.,  14.,  16.,  18.,  20.,  22.,\n        24.,  26.,  28.,  30.,  32.,  34.,  36.,  38.,  40.,  42.,  44.,  46.,\n        48.,  50.,  52.,  54.,  56.,  58.,  60.,  62.,  64.,  66.,  68.,  70.,\n        72.,  74.,  76.,  78.,  80.,  82.,  84.,  86.,  88.,  90.,  92.,  94.,\n        96.,  98., 100., 102., 104., 106., 108., 110., 112., 114., 116., 118.,\n       120., 122., 124., 126., 128., 130., 132., 134., 136., 138., 140., 142.,\n       144., 146., 148., 150., 152., 154., 156., 158., 160., 162., 164., 166.,\n       168., 170., 172., 174., 176., 178., 180., 182., 184., 186., 188., 190.,\n       192., 194., 196., 198., 200., 202., 204., 206., 208., 210., 212., 214.,\n       216., 218., 220., 222., 224., 226., 228., 230., 232., 234., 236., 238.,\n       240., 242., 244., 246., 248., 250., 252., 254., 256., 258., 260., 262.,\n       264., 266., 268., 270., 272., 274., 276., 278., 280., 282., 284., 286.,\n       288., 290., 292., 294., 296., 298., 300., 302., 304., 306., 308., 310.,\n       312., 314., 316., 318., 320., 322., 324., 326., 328., 330., 332., 334.,\n       336., 338., 340., 342., 344., 346., 348., 350., 352., 354., 356., 358.],\n      dtype=float32)</pre></div></li><li class='xr-var-item'><div class='xr-var-name'><span class='xr-has-index'>time</span></div><div class='xr-var-dims'>(time)</div><div class='xr-var-dtype'>datetime64[ns]</div><div class='xr-var-preview xr-preview'>1854-01-01 ... 2020-02-01</div><input id='attrs-1bbd682b-a7e6-4d5c-8e07-cc4ebb0901b7' class='xr-var-attrs-in' type='checkbox' ><label for='attrs-1bbd682b-a7e6-4d5c-8e07-cc4ebb0901b7' title='Show/Hide attributes'><svg class='icon xr-icon-file-text2'><use xlink:href='#icon-file-text2'></use></svg></label><input id='data-ab6e8419-527e-4f41-b0a5-aaa5a922bb3e' class='xr-var-data-in' type='checkbox'><label for='data-ab6e8419-527e-4f41-b0a5-aaa5a922bb3e' title='Show/Hide data repr'><svg class='icon xr-icon-database'><use xlink:href='#icon-database'></use></svg></label><div class='xr-var-attrs'><dl class='xr-attrs'><dt><span>long_name :</span></dt><dd>Time</dd><dt><span>delta_t :</span></dt><dd>0000-01-00 00:00:00</dd><dt><span>avg_period :</span></dt><dd>0000-01-00 00:00:00</dd><dt><span>prev_avg_period :</span></dt><dd>0000-00-07 00:00:00</dd><dt><span>standard_name :</span></dt><dd>time</dd><dt><span>axis :</span></dt><dd>T</dd><dt><span>actual_range :</span></dt><dd>[19723.0, 80384.0]</dd><dt><span>_ChunkSizes :</span></dt><dd>1</dd></dl></div><div class='xr-var-data'><pre>array([&#x27;1854-01-01T00:00:00.000000000&#x27;, &#x27;1854-02-01T00:00:00.000000000&#x27;,\n       &#x27;1854-03-01T00:00:00.000000000&#x27;, ..., &#x27;2019-12-01T00:00:00.000000000&#x27;,\n       &#x27;2020-01-01T00:00:00.000000000&#x27;, &#x27;2020-02-01T00:00:00.000000000&#x27;],\n      dtype=&#x27;datetime64[ns]&#x27;)</pre></div></li></ul></div></li><li class='xr-section-item'><input id='section-61744816-d1f5-46e3-848f-ef3d75b05df6' class='xr-section-summary-in' type='checkbox'  checked><label for='section-61744816-d1f5-46e3-848f-ef3d75b05df6' class='xr-section-summary' >Data variables: <span>(2)</span></label><div class='xr-section-inline-details'></div><div class='xr-section-details'><ul class='xr-var-list'><li class='xr-var-item'><div class='xr-var-name'><span>time_bnds</span></div><div class='xr-var-dims'>(time, nbnds)</div><div class='xr-var-dtype'>float64</div><div class='xr-var-preview xr-preview'>dask.array&lt;chunksize=(100, 2), meta=np.ndarray&gt;</div><input id='attrs-ac9edda7-abc6-43cc-a0aa-162f8644b6c5' class='xr-var-attrs-in' type='checkbox' ><label for='attrs-ac9edda7-abc6-43cc-a0aa-162f8644b6c5' title='Show/Hide attributes'><svg class='icon xr-icon-file-text2'><use xlink:href='#icon-file-text2'></use></svg></label><input id='data-74b73e40-b3c1-4827-8fce-e053f9a87ade' class='xr-var-data-in' type='checkbox'><label for='data-74b73e40-b3c1-4827-8fce-e053f9a87ade' title='Show/Hide data repr'><svg class='icon xr-icon-database'><use xlink:href='#icon-database'></use></svg></label><div class='xr-var-attrs'><dl class='xr-attrs'><dt><span>long_name :</span></dt><dd>Time Boundaries</dd><dt><span>_ChunkSizes :</span></dt><dd>[1, 2]</dd></dl></div><div class='xr-var-data'><table>\n<tr>\n<td>\n<table>\n  <thead>\n    <tr><td> </td><th> Array </th><th> Chunk </th></tr>\n  </thead>\n  <tbody>\n    <tr><th> Bytes </th><td> 31.16 kiB </td> <td> 1.56 kiB </td></tr>\n    <tr><th> Shape </th><td> (1994, 2) </td> <td> (100, 2) </td></tr>\n    <tr><th> Count </th><td> 21 Tasks </td><td> 20 Chunks </td></tr>\n    <tr><th> Type </th><td> float64 </td><td> numpy.ndarray </td></tr>\n  </tbody>\n</table>\n</td>\n<td>\n<svg width=\"75\" height=\"170\" style=\"stroke:rgb(0,0,0);stroke-width:1\" >\n\n  <!-- Horizontal lines -->\n  <line x1=\"0\" y1=\"0\" x2=\"25\" y2=\"0\" style=\"stroke-width:2\" />\n  <line x1=\"0\" y1=\"6\" x2=\"25\" y2=\"6\" />\n  <line x1=\"0\" y1=\"12\" x2=\"25\" y2=\"12\" />\n  <line x1=\"0\" y1=\"18\" x2=\"25\" y2=\"18\" />\n  <line x1=\"0\" y1=\"24\" x2=\"25\" y2=\"24\" />\n  <line x1=\"0\" y1=\"30\" x2=\"25\" y2=\"30\" />\n  <line x1=\"0\" y1=\"36\" x2=\"25\" y2=\"36\" />\n  <line x1=\"0\" y1=\"42\" x2=\"25\" y2=\"42\" />\n  <line x1=\"0\" y1=\"48\" x2=\"25\" y2=\"48\" />\n  <line x1=\"0\" y1=\"54\" x2=\"25\" y2=\"54\" />\n  <line x1=\"0\" y1=\"60\" x2=\"25\" y2=\"60\" />\n  <line x1=\"0\" y1=\"66\" x2=\"25\" y2=\"66\" />\n  <line x1=\"0\" y1=\"72\" x2=\"25\" y2=\"72\" />\n  <line x1=\"0\" y1=\"78\" x2=\"25\" y2=\"78\" />\n  <line x1=\"0\" y1=\"84\" x2=\"25\" y2=\"84\" />\n  <line x1=\"0\" y1=\"90\" x2=\"25\" y2=\"90\" />\n  <line x1=\"0\" y1=\"96\" x2=\"25\" y2=\"96\" />\n  <line x1=\"0\" y1=\"102\" x2=\"25\" y2=\"102\" />\n  <line x1=\"0\" y1=\"108\" x2=\"25\" y2=\"108\" />\n  <line x1=\"0\" y1=\"120\" x2=\"25\" y2=\"120\" style=\"stroke-width:2\" />\n\n  <!-- Vertical lines -->\n  <line x1=\"0\" y1=\"0\" x2=\"0\" y2=\"120\" style=\"stroke-width:2\" />\n  <line x1=\"25\" y1=\"0\" x2=\"25\" y2=\"120\" style=\"stroke-width:2\" />\n\n  <!-- Colored Rectangle -->\n  <polygon points=\"0.0,0.0 25.412616514582485,0.0 25.412616514582485,120.0 0.0,120.0\" style=\"fill:#8B4903A0;stroke-width:0\"/>\n\n  <!-- Text -->\n  <text x=\"12.706308\" y=\"140.000000\" font-size=\"1.0rem\" font-weight=\"100\" text-anchor=\"middle\" >2</text>\n  <text x=\"45.412617\" y=\"60.000000\" font-size=\"1.0rem\" font-weight=\"100\" text-anchor=\"middle\" transform=\"rotate(-90,45.412617,60.000000)\">1994</text>\n</svg>\n</td>\n</tr>\n</table></div></li><li class='xr-var-item'><div class='xr-var-name'><span>err</span></div><div class='xr-var-dims'>(time, lat, lon)</div><div class='xr-var-dtype'>float32</div><div class='xr-var-preview xr-preview'>dask.array&lt;chunksize=(100, 89, 90), meta=np.ndarray&gt;</div><input id='attrs-8f1702f0-7f06-43f5-9acf-67bf2972ce76' class='xr-var-attrs-in' type='checkbox' ><label for='attrs-8f1702f0-7f06-43f5-9acf-67bf2972ce76' title='Show/Hide attributes'><svg class='icon xr-icon-file-text2'><use xlink:href='#icon-file-text2'></use></svg></label><input id='data-4b8db856-96e1-4f25-b23c-e71255b76abf' class='xr-var-data-in' type='checkbox'><label for='data-4b8db856-96e1-4f25-b23c-e71255b76abf' title='Show/Hide data repr'><svg class='icon xr-icon-database'><use xlink:href='#icon-database'></use></svg></label><div class='xr-var-attrs'><dl class='xr-attrs'><dt><span>long_name :</span></dt><dd>Monthly Mean Error Estimate of Sea Surface Temperature</dd><dt><span>units :</span></dt><dd>-</dd><dt><span>precision :</span></dt><dd>2</dd><dt><span>least_significant_digit :</span></dt><dd>1</dd><dt><span>var_desc :</span></dt><dd>Normalized Error Variance</dd><dt><span>dataset :</span></dt><dd>NOAA Extended Reconstructed SST V3</dd><dt><span>level_desc :</span></dt><dd>Surface</dd><dt><span>statistic :</span></dt><dd>Mean</dd><dt><span>parent_stat :</span></dt><dd>Mean</dd><dt><span>actual_range :</span></dt><dd>[0.04, 1.0]</dd><dt><span>valid_range :</span></dt><dd>[0.0, 1.0]</dd><dt><span>_ChunkSizes :</span></dt><dd>[1, 89, 180]</dd></dl></div><div class='xr-var-data'><table>\n<tr>\n<td>\n<table>\n  <thead>\n    <tr><td> </td><th> Array </th><th> Chunk </th></tr>\n  </thead>\n  <tbody>\n    <tr><th> Bytes </th><td> 121.86 MiB </td> <td> 3.06 MiB </td></tr>\n    <tr><th> Shape </th><td> (1994, 89, 180) </td> <td> (100, 89, 90) </td></tr>\n    <tr><th> Count </th><td> 41 Tasks </td><td> 40 Chunks </td></tr>\n    <tr><th> Type </th><td> float32 </td><td> numpy.ndarray </td></tr>\n  </tbody>\n</table>\n</td>\n<td>\n<svg width=\"168\" height=\"154\" style=\"stroke:rgb(0,0,0);stroke-width:1\" >\n\n  <!-- Horizontal lines -->\n  <line x1=\"10\" y1=\"0\" x2=\"80\" y2=\"70\" style=\"stroke-width:2\" />\n  <line x1=\"10\" y1=\"33\" x2=\"80\" y2=\"104\" style=\"stroke-width:2\" />\n\n  <!-- Vertical lines -->\n  <line x1=\"10\" y1=\"0\" x2=\"10\" y2=\"33\" style=\"stroke-width:2\" />\n  <line x1=\"13\" y1=\"3\" x2=\"13\" y2=\"37\" />\n  <line x1=\"17\" y1=\"7\" x2=\"17\" y2=\"40\" />\n  <line x1=\"20\" y1=\"10\" x2=\"20\" y2=\"44\" />\n  <line x1=\"24\" y1=\"14\" x2=\"24\" y2=\"47\" />\n  <line x1=\"27\" y1=\"17\" x2=\"27\" y2=\"51\" />\n  <line x1=\"31\" y1=\"21\" x2=\"31\" y2=\"55\" />\n  <line x1=\"34\" y1=\"24\" x2=\"34\" y2=\"58\" />\n  <line x1=\"38\" y1=\"28\" x2=\"38\" y2=\"62\" />\n  <line x1=\"41\" y1=\"31\" x2=\"41\" y2=\"65\" />\n  <line x1=\"45\" y1=\"35\" x2=\"45\" y2=\"69\" />\n  <line x1=\"48\" y1=\"38\" x2=\"48\" y2=\"72\" />\n  <line x1=\"52\" y1=\"42\" x2=\"52\" y2=\"76\" />\n  <line x1=\"56\" y1=\"46\" x2=\"56\" y2=\"79\" />\n  <line x1=\"59\" y1=\"49\" x2=\"59\" y2=\"83\" />\n  <line x1=\"63\" y1=\"53\" x2=\"63\" y2=\"86\" />\n  <line x1=\"66\" y1=\"56\" x2=\"66\" y2=\"90\" />\n  <line x1=\"70\" y1=\"60\" x2=\"70\" y2=\"93\" />\n  <line x1=\"73\" y1=\"63\" x2=\"73\" y2=\"97\" />\n  <line x1=\"80\" y1=\"70\" x2=\"80\" y2=\"104\" style=\"stroke-width:2\" />\n\n  <!-- Colored Rectangle -->\n  <polygon points=\"10.0,0.0 80.58823529411765,70.58823529411765 80.58823529411765,104.39346591422614 10.0,33.80523062010849\" style=\"fill:#8B4903A0;stroke-width:0\"/>\n\n  <!-- Horizontal lines -->\n  <line x1=\"10\" y1=\"0\" x2=\"48\" y2=\"0\" style=\"stroke-width:2\" />\n  <line x1=\"13\" y1=\"3\" x2=\"51\" y2=\"3\" />\n  <line x1=\"17\" y1=\"7\" x2=\"55\" y2=\"7\" />\n  <line x1=\"20\" y1=\"10\" x2=\"58\" y2=\"10\" />\n  <line x1=\"24\" y1=\"14\" x2=\"62\" y2=\"14\" />\n  <line x1=\"27\" y1=\"17\" x2=\"65\" y2=\"17\" />\n  <line x1=\"31\" y1=\"21\" x2=\"69\" y2=\"21\" />\n  <line x1=\"34\" y1=\"24\" x2=\"72\" y2=\"24\" />\n  <line x1=\"38\" y1=\"28\" x2=\"76\" y2=\"28\" />\n  <line x1=\"41\" y1=\"31\" x2=\"79\" y2=\"31\" />\n  <line x1=\"45\" y1=\"35\" x2=\"83\" y2=\"35\" />\n  <line x1=\"48\" y1=\"38\" x2=\"86\" y2=\"38\" />\n  <line x1=\"52\" y1=\"42\" x2=\"90\" y2=\"42\" />\n  <line x1=\"56\" y1=\"46\" x2=\"94\" y2=\"46\" />\n  <line x1=\"59\" y1=\"49\" x2=\"97\" y2=\"49\" />\n  <line x1=\"63\" y1=\"53\" x2=\"101\" y2=\"53\" />\n  <line x1=\"66\" y1=\"56\" x2=\"104\" y2=\"56\" />\n  <line x1=\"70\" y1=\"60\" x2=\"108\" y2=\"60\" />\n  <line x1=\"73\" y1=\"63\" x2=\"111\" y2=\"63\" />\n  <line x1=\"80\" y1=\"70\" x2=\"118\" y2=\"70\" style=\"stroke-width:2\" />\n\n  <!-- Vertical lines -->\n  <line x1=\"10\" y1=\"0\" x2=\"80\" y2=\"70\" style=\"stroke-width:2\" />\n  <line x1=\"29\" y1=\"0\" x2=\"99\" y2=\"70\" />\n  <line x1=\"48\" y1=\"0\" x2=\"118\" y2=\"70\" style=\"stroke-width:2\" />\n\n  <!-- Colored Rectangle -->\n  <polygon points=\"10.0,0.0 48.02215893500061,0.0 118.61039422911827,70.58823529411765 80.58823529411765,70.58823529411765\" style=\"fill:#8B4903A0;stroke-width:0\"/>\n\n  <!-- Horizontal lines -->\n  <line x1=\"80\" y1=\"70\" x2=\"118\" y2=\"70\" style=\"stroke-width:2\" />\n  <line x1=\"80\" y1=\"104\" x2=\"118\" y2=\"104\" style=\"stroke-width:2\" />\n\n  <!-- Vertical lines -->\n  <line x1=\"80\" y1=\"70\" x2=\"80\" y2=\"104\" style=\"stroke-width:2\" />\n  <line x1=\"99\" y1=\"70\" x2=\"99\" y2=\"104\" />\n  <line x1=\"118\" y1=\"70\" x2=\"118\" y2=\"104\" style=\"stroke-width:2\" />\n\n  <!-- Colored Rectangle -->\n  <polygon points=\"80.58823529411765,70.58823529411765 118.61039422911827,70.58823529411765 118.61039422911827,104.39346591422614 80.58823529411765,104.39346591422614\" style=\"fill:#ECB172A0;stroke-width:0\"/>\n\n  <!-- Text -->\n  <text x=\"99.599315\" y=\"124.393466\" font-size=\"1.0rem\" font-weight=\"100\" text-anchor=\"middle\" >180</text>\n  <text x=\"138.610394\" y=\"87.490851\" font-size=\"1.0rem\" font-weight=\"100\" text-anchor=\"middle\" transform=\"rotate(0,138.610394,87.490851)\">89</text>\n  <text x=\"35.294118\" y=\"89.099348\" font-size=\"1.0rem\" font-weight=\"100\" text-anchor=\"middle\" transform=\"rotate(45,35.294118,89.099348)\">1994</text>\n</svg>\n</td>\n</tr>\n</table></div></li></ul></div></li><li class='xr-section-item'><input id='section-1bdbdc04-1de6-428c-9c7b-75fa086aa846' class='xr-section-summary-in' type='checkbox'  ><label for='section-1bdbdc04-1de6-428c-9c7b-75fa086aa846' class='xr-section-summary' >Attributes: <span>(12)</span></label><div class='xr-section-inline-details'></div><div class='xr-section-details'><dl class='xr-attrs'><dt><span>title :</span></dt><dd>NOAA Extended Reconstructed SST V3</dd><dt><span>Conventions :</span></dt><dd>CF-1.0</dd><dt><span>history :</span></dt><dd>Thu Jul  1 14:04:15 2010: ncatted -O -a _FillValue,err,o,s,32767 err.mnmean.v3b.nc\ncreated 09/2007 by CAS</dd><dt><span>comments :</span></dt><dd>The extended reconstructed sea surface temperature (ERSST)\nwas constructed using the most recently available \nComprehensive Ocean-Atmosphere Data Set (COADS) SST data \nand improved statistical methods that allow stable \nreconstruction using sparse data.Currently, ERSST version 2 ( ERSST.v2 ) and version 3 ( ERSST.v3 ) are available from NCDC.\nERSST.v3 is an improved extended reconstruction over version 2.\nMost of the improvements are justified by testing with simulated data.\nThe major differences are caused by the improved low-frequency ( LF ) tuning of ERSST.v3 \nwhich reduces the SST anomaly damping before 1930 using the optimized parameters.\nBeginning in 1985, ERSST.v3 is also improved by explicitly including\nbias-adjusted satellite infrared data from AVHRR.</dd><dt><span>platform :</span></dt><dd>Model</dd><dt><span>source :</span></dt><dd>NOAA/NESDIS/National Climatic Data Center</dd><dt><span>institution :</span></dt><dd>NOAA/NESDIS/National Climatic Data Center</dd><dt><span>citation :</span></dt><dd>Smith, T.M., R.W. Reynolds, Thomas C. Peterson, and Jay Lawrimore 2007: Improvements to NOAA&#x27;s Historical Merged Land-Ocean Surface Temperature lysis (1880-2006). In press. Journal of Climate (ERSSTV3).\nSmith, T.M., and R.W. Reynolds, 2003: Extended Reconstruction of Global Sea Surface Temperatures Based on COADS Data (1854-1997). Journal of Climate, 16, 1495-1510. ERSSTV1\nSmith, T.M., and R.W. Reynolds, 2004: Improved Extended Reconstruction of SST (1854-1997). Journal of Climate, 17, 2466-2477.ERSSTv2</dd><dt><span>dataset_title :</span></dt><dd>Extended Reconstructed Sea Surface Temperature (ERSST)</dd><dt><span>source_doc :</span></dt><dd>https://www.ncdc.noaa.gov/data-access/marineocean-data/extended-reconstructed-sea-surface-temperature-ersst-v3b</dd><dt><span>References :</span></dt><dd>https://www.psl.noaa.gov/data/gridded/data.noaa.ersst.html</dd><dt><span>DODS_EXTRA.Unlimited_Dimension :</span></dt><dd>time</dd></dl></div></li></ul></div></div>"
     },
     "metadata": {},
     "execution_count": 8
    }
   ],
   "source": [
    "%%time\n",
    "# Use a custom chunking scheme\n",
    "ds = source(chunks={'time': 100, 'lon': 90}).to_dask()\n",
    "ds"
   ]
  },
  {
   "cell_type": "markdown",
   "id": "proof-wonder",
   "metadata": {},
   "source": [
    "## Working with nested catalogs\n",
    "\n",
    "In some scenarious, a THREDDS catalog can reference another THREDDS catalog. This results into a nested structure consisting of a parent catalog and children catalogs:"
   ]
  },
  {
   "cell_type": "code",
   "execution_count": 9,
   "id": "simple-atlanta",
   "metadata": {},
   "outputs": [
    {
     "output_type": "execute_result",
     "data": {
      "text/plain": [
       "['Datasets', 'Projects', 'Aggregations']"
      ]
     },
     "metadata": {},
     "execution_count": 9
    }
   ],
   "source": [
    "cat_url = 'https://psl.noaa.gov/thredds/catalog.xml'\n",
    "catalog = intake.open_thredds_cat(cat_url)\n",
    "list(catalog)"
   ]
  },
  {
   "cell_type": "code",
   "execution_count": 10,
   "id": "following-denver",
   "metadata": {},
   "outputs": [
    {
     "output_type": "stream",
     "name": "stdout",
     "text": [
      "['20thC_ReanV2c', '20thC_ReanV3', 'ATOMIC', 'COBE', 'COBE2', 'CarbonTracker', 'E3SM', 'E3SM_LE', 'LIM', 'NARR', 'S2S', 'SERDP_regimeshifts', 'Timeseries', 'cmap', 'coads', 'cpc_global_precip', 'cpc_global_temp', 'cpc_us_hour_precip', 'cpc_us_precip', 'cpcsoil', 'cru', 'dai_pdsi', 'ghcncams', 'ghcngridded', 'gistemp', 'godas', 'gpcc', 'gpcp', 'icoads', 'icoads2.5', 'interp_OLR', 'jmatemp', 'kaplan_sst', 'livneh', 'mlost', 'mlostv3b', 'ncep', 'ncep.marine', 'ncep.pac.ocean', 'ncep.reanalysis', 'ncep.reanalysis.dailyavgs', 'ncep.reanalysis.derived', 'ncep.reanalysis2', 'ncep.reanalysis2.dailyavgs', 'ncep.reanalysis2.derived', 'noaa.ersst', 'noaa.ersst.v3', 'noaa.ersst.v4', 'noaa.ersst.v5', 'noaa.oisst.v2', 'noaa.oisst.v2.derived', 'noaa.oisst.v2.highres', 'noaa_hrc', 'noaaglobaltemp', 'noaamergedtemp', 'nodc.woa94', 'nodc.woa98', 'olrcdr', 'prec', 'precl', 'rte-rrtmgp', 'snowcover', 'udel.airt.precip', 'uninterp_OLR']\n"
     ]
    }
   ],
   "source": [
    "print(list(catalog['Datasets']))"
   ]
  },
  {
   "cell_type": "code",
   "execution_count": 11,
   "id": "built-mercy",
   "metadata": {},
   "outputs": [
    {
     "output_type": "stream",
     "name": "stdout",
     "text": [
      "['other_gauss', 'pressure', 'surface', 'surface_gauss', 'tropopause']\n"
     ]
    }
   ],
   "source": [
    "print(list(catalog['Datasets']['ncep.reanalysis.dailyavgs']))"
   ]
  },
  {
   "cell_type": "code",
   "execution_count": 12,
   "id": "connected-welsh",
   "metadata": {},
   "outputs": [
    {
     "output_type": "stream",
     "name": "stdout",
     "text": [
      "['air.sig995.1948.nc', 'air.sig995.1949.nc', 'air.sig995.1950.nc', 'air.sig995.1951.nc', 'air.sig995.1952.nc', 'air.sig995.1953.nc', 'air.sig995.1954.nc', 'air.sig995.1955.nc', 'air.sig995.1956.nc', 'air.sig995.1957.nc']\n"
     ]
    }
   ],
   "source": [
    "print(list(catalog['Datasets']['ncep.reanalysis.dailyavgs']['surface'])[:10])"
   ]
  },
  {
   "cell_type": "markdown",
   "id": "religious-coordinator",
   "metadata": {},
   "source": [
    "To load data from such a nested catalog, `intake-thredds` provides a special source object {py:class}`~intake_thredds.source.THREDDSMergedSource` accessible via the `.open_thredds_merged()` function. The inputs for this function consists of:\n",
    "\n",
    "- `url`: top level URL of the THREDDS catalog\n",
    "- `path`: a list of paths for child catalogs to descend down. The paths can include glob characters (*, ?). These glob characters are used for matching."
   ]
  },
  {
   "cell_type": "code",
   "execution_count": 13,
   "id": "suited-vacuum",
   "metadata": {},
   "outputs": [
    {
     "output_type": "stream",
     "name": "stdout",
     "text": [
      "sources:\n  thredds_merged:\n    args:\n      path:\n      - Datasets\n      - ncep.reanalysis.dailyavgs\n      - surface\n      - air*sig995*194*.nc\n      url: https://psl.noaa.gov/thredds/catalog.xml\n    description: ''\n    driver: intake_thredds.source.THREDDSMergedSource\n    metadata: {}\n\n"
     ]
    }
   ],
   "source": [
    "source = intake.open_thredds_merged(\n",
    "    cat_url, path=['Datasets', 'ncep.reanalysis.dailyavgs', 'surface', 'air*sig995*194*.nc']\n",
    ")\n",
    "print(source)"
   ]
  },
  {
   "cell_type": "markdown",
   "id": "pressing-robinson",
   "metadata": {},
   "source": [
    "To load the data into an xarray {py:class}`~xarray.Dataset`, you can invoke the `.to_dask()` method. \n",
    "Internally, {py:class}`~intake_thredds.source.THREDDSMergedSource` does the following:\n",
    "- descend down the given paths and collect all available datasets.\n",
    "- load each dataset in a dataset.\n",
    "- combine all loaded datasets into a single dataset."
   ]
  },
  {
   "cell_type": "code",
   "execution_count": 14,
   "id": "indie-debut",
   "metadata": {},
   "outputs": [
    {
     "output_type": "stream",
     "name": "stderr",
     "text": [
      "Dataset(s): 100%|████████████████████████████████| 2/2 [00:07<00:00,  3.85s/it]CPU times: user 821 ms, sys: 57.6 ms, total: 879 ms\n",
      "Wall time: 10.6 s\n",
      "\n"
     ]
    },
    {
     "output_type": "execute_result",
     "data": {
      "text/plain": [
       "<xarray.Dataset>\n",
       "Dimensions:  (lat: 73, lon: 144, time: 731)\n",
       "Coordinates:\n",
       "  * lon      (lon) float32 0.0 2.5 5.0 7.5 10.0 ... 350.0 352.5 355.0 357.5\n",
       "  * time     (time) datetime64[ns] 1948-01-01 1948-01-02 ... 1949-12-31\n",
       "  * lat      (lat) float32 90.0 87.5 85.0 82.5 80.0 ... -82.5 -85.0 -87.5 -90.0\n",
       "Data variables:\n",
       "    air      (time, lat, lon) float32 dask.array<chunksize=(366, 73, 144), meta=np.ndarray>\n",
       "Attributes:\n",
       "    Conventions:                     COARDS\n",
       "    title:                           mean daily NMC reanalysis (1948)\n",
       "    description:                     Data is from NMC initialized reanalysis\\...\n",
       "    platform:                        Model\n",
       "    history:                         created 99/05/11 by Hoop (netCDF2.3)\\nCo...\n",
       "    dataset_title:                   NCEP-NCAR Reanalysis 1\n",
       "    References:                      http://www.psl.noaa.gov/data/gridded/dat...\n",
       "    DODS_EXTRA.Unlimited_Dimension:  time"
      ],
      "text/html": "<div><svg style=\"position: absolute; width: 0; height: 0; overflow: hidden\">\n<defs>\n<symbol id=\"icon-database\" viewBox=\"0 0 32 32\">\n<path d=\"M16 0c-8.837 0-16 2.239-16 5v4c0 2.761 7.163 5 16 5s16-2.239 16-5v-4c0-2.761-7.163-5-16-5z\"></path>\n<path d=\"M16 17c-8.837 0-16-2.239-16-5v6c0 2.761 7.163 5 16 5s16-2.239 16-5v-6c0 2.761-7.163 5-16 5z\"></path>\n<path d=\"M16 26c-8.837 0-16-2.239-16-5v6c0 2.761 7.163 5 16 5s16-2.239 16-5v-6c0 2.761-7.163 5-16 5z\"></path>\n</symbol>\n<symbol id=\"icon-file-text2\" viewBox=\"0 0 32 32\">\n<path d=\"M28.681 7.159c-0.694-0.947-1.662-2.053-2.724-3.116s-2.169-2.030-3.116-2.724c-1.612-1.182-2.393-1.319-2.841-1.319h-15.5c-1.378 0-2.5 1.121-2.5 2.5v27c0 1.378 1.122 2.5 2.5 2.5h23c1.378 0 2.5-1.122 2.5-2.5v-19.5c0-0.448-0.137-1.23-1.319-2.841zM24.543 5.457c0.959 0.959 1.712 1.825 2.268 2.543h-4.811v-4.811c0.718 0.556 1.584 1.309 2.543 2.268zM28 29.5c0 0.271-0.229 0.5-0.5 0.5h-23c-0.271 0-0.5-0.229-0.5-0.5v-27c0-0.271 0.229-0.5 0.5-0.5 0 0 15.499-0 15.5 0v7c0 0.552 0.448 1 1 1h7v19.5z\"></path>\n<path d=\"M23 26h-14c-0.552 0-1-0.448-1-1s0.448-1 1-1h14c0.552 0 1 0.448 1 1s-0.448 1-1 1z\"></path>\n<path d=\"M23 22h-14c-0.552 0-1-0.448-1-1s0.448-1 1-1h14c0.552 0 1 0.448 1 1s-0.448 1-1 1z\"></path>\n<path d=\"M23 18h-14c-0.552 0-1-0.448-1-1s0.448-1 1-1h14c0.552 0 1 0.448 1 1s-0.448 1-1 1z\"></path>\n</symbol>\n</defs>\n</svg>\n<style>/* CSS stylesheet for displaying xarray objects in jupyterlab.\n *\n */\n\n:root {\n  --xr-font-color0: var(--jp-content-font-color0, rgba(0, 0, 0, 1));\n  --xr-font-color2: var(--jp-content-font-color2, rgba(0, 0, 0, 0.54));\n  --xr-font-color3: var(--jp-content-font-color3, rgba(0, 0, 0, 0.38));\n  --xr-border-color: var(--jp-border-color2, #e0e0e0);\n  --xr-disabled-color: var(--jp-layout-color3, #bdbdbd);\n  --xr-background-color: var(--jp-layout-color0, white);\n  --xr-background-color-row-even: var(--jp-layout-color1, white);\n  --xr-background-color-row-odd: var(--jp-layout-color2, #eeeeee);\n}\n\nhtml[theme=dark],\nbody.vscode-dark {\n  --xr-font-color0: rgba(255, 255, 255, 1);\n  --xr-font-color2: rgba(255, 255, 255, 0.54);\n  --xr-font-color3: rgba(255, 255, 255, 0.38);\n  --xr-border-color: #1F1F1F;\n  --xr-disabled-color: #515151;\n  --xr-background-color: #111111;\n  --xr-background-color-row-even: #111111;\n  --xr-background-color-row-odd: #313131;\n}\n\n.xr-wrap {\n  display: block;\n  min-width: 300px;\n  max-width: 700px;\n}\n\n.xr-text-repr-fallback {\n  /* fallback to plain text repr when CSS is not injected (untrusted notebook) */\n  display: none;\n}\n\n.xr-header {\n  padding-top: 6px;\n  padding-bottom: 6px;\n  margin-bottom: 4px;\n  border-bottom: solid 1px var(--xr-border-color);\n}\n\n.xr-header > div,\n.xr-header > ul {\n  display: inline;\n  margin-top: 0;\n  margin-bottom: 0;\n}\n\n.xr-obj-type,\n.xr-array-name {\n  margin-left: 2px;\n  margin-right: 10px;\n}\n\n.xr-obj-type {\n  color: var(--xr-font-color2);\n}\n\n.xr-sections {\n  padding-left: 0 !important;\n  display: grid;\n  grid-template-columns: 150px auto auto 1fr 20px 20px;\n}\n\n.xr-section-item {\n  display: contents;\n}\n\n.xr-section-item input {\n  display: none;\n}\n\n.xr-section-item input + label {\n  color: var(--xr-disabled-color);\n}\n\n.xr-section-item input:enabled + label {\n  cursor: pointer;\n  color: var(--xr-font-color2);\n}\n\n.xr-section-item input:enabled + label:hover {\n  color: var(--xr-font-color0);\n}\n\n.xr-section-summary {\n  grid-column: 1;\n  color: var(--xr-font-color2);\n  font-weight: 500;\n}\n\n.xr-section-summary > span {\n  display: inline-block;\n  padding-left: 0.5em;\n}\n\n.xr-section-summary-in:disabled + label {\n  color: var(--xr-font-color2);\n}\n\n.xr-section-summary-in + label:before {\n  display: inline-block;\n  content: '►';\n  font-size: 11px;\n  width: 15px;\n  text-align: center;\n}\n\n.xr-section-summary-in:disabled + label:before {\n  color: var(--xr-disabled-color);\n}\n\n.xr-section-summary-in:checked + label:before {\n  content: '▼';\n}\n\n.xr-section-summary-in:checked + label > span {\n  display: none;\n}\n\n.xr-section-summary,\n.xr-section-inline-details {\n  padding-top: 4px;\n  padding-bottom: 4px;\n}\n\n.xr-section-inline-details {\n  grid-column: 2 / -1;\n}\n\n.xr-section-details {\n  display: none;\n  grid-column: 1 / -1;\n  margin-bottom: 5px;\n}\n\n.xr-section-summary-in:checked ~ .xr-section-details {\n  display: contents;\n}\n\n.xr-array-wrap {\n  grid-column: 1 / -1;\n  display: grid;\n  grid-template-columns: 20px auto;\n}\n\n.xr-array-wrap > label {\n  grid-column: 1;\n  vertical-align: top;\n}\n\n.xr-preview {\n  color: var(--xr-font-color3);\n}\n\n.xr-array-preview,\n.xr-array-data {\n  padding: 0 5px !important;\n  grid-column: 2;\n}\n\n.xr-array-data,\n.xr-array-in:checked ~ .xr-array-preview {\n  display: none;\n}\n\n.xr-array-in:checked ~ .xr-array-data,\n.xr-array-preview {\n  display: inline-block;\n}\n\n.xr-dim-list {\n  display: inline-block !important;\n  list-style: none;\n  padding: 0 !important;\n  margin: 0;\n}\n\n.xr-dim-list li {\n  display: inline-block;\n  padding: 0;\n  margin: 0;\n}\n\n.xr-dim-list:before {\n  content: '(';\n}\n\n.xr-dim-list:after {\n  content: ')';\n}\n\n.xr-dim-list li:not(:last-child):after {\n  content: ',';\n  padding-right: 5px;\n}\n\n.xr-has-index {\n  font-weight: bold;\n}\n\n.xr-var-list,\n.xr-var-item {\n  display: contents;\n}\n\n.xr-var-item > div,\n.xr-var-item label,\n.xr-var-item > .xr-var-name span {\n  background-color: var(--xr-background-color-row-even);\n  margin-bottom: 0;\n}\n\n.xr-var-item > .xr-var-name:hover span {\n  padding-right: 5px;\n}\n\n.xr-var-list > li:nth-child(odd) > div,\n.xr-var-list > li:nth-child(odd) > label,\n.xr-var-list > li:nth-child(odd) > .xr-var-name span {\n  background-color: var(--xr-background-color-row-odd);\n}\n\n.xr-var-name {\n  grid-column: 1;\n}\n\n.xr-var-dims {\n  grid-column: 2;\n}\n\n.xr-var-dtype {\n  grid-column: 3;\n  text-align: right;\n  color: var(--xr-font-color2);\n}\n\n.xr-var-preview {\n  grid-column: 4;\n}\n\n.xr-var-name,\n.xr-var-dims,\n.xr-var-dtype,\n.xr-preview,\n.xr-attrs dt {\n  white-space: nowrap;\n  overflow: hidden;\n  text-overflow: ellipsis;\n  padding-right: 10px;\n}\n\n.xr-var-name:hover,\n.xr-var-dims:hover,\n.xr-var-dtype:hover,\n.xr-attrs dt:hover {\n  overflow: visible;\n  width: auto;\n  z-index: 1;\n}\n\n.xr-var-attrs,\n.xr-var-data {\n  display: none;\n  background-color: var(--xr-background-color) !important;\n  padding-bottom: 5px !important;\n}\n\n.xr-var-attrs-in:checked ~ .xr-var-attrs,\n.xr-var-data-in:checked ~ .xr-var-data {\n  display: block;\n}\n\n.xr-var-data > table {\n  float: right;\n}\n\n.xr-var-name span,\n.xr-var-data,\n.xr-attrs {\n  padding-left: 25px !important;\n}\n\n.xr-attrs,\n.xr-var-attrs,\n.xr-var-data {\n  grid-column: 1 / -1;\n}\n\ndl.xr-attrs {\n  padding: 0;\n  margin: 0;\n  display: grid;\n  grid-template-columns: 125px auto;\n}\n\n.xr-attrs dt,\n.xr-attrs dd {\n  padding: 0;\n  margin: 0;\n  float: left;\n  padding-right: 10px;\n  width: auto;\n}\n\n.xr-attrs dt {\n  font-weight: normal;\n  grid-column: 1;\n}\n\n.xr-attrs dt:hover span {\n  display: inline-block;\n  background: var(--xr-background-color);\n  padding-right: 10px;\n}\n\n.xr-attrs dd {\n  grid-column: 2;\n  white-space: pre-wrap;\n  word-break: break-all;\n}\n\n.xr-icon-database,\n.xr-icon-file-text2 {\n  display: inline-block;\n  vertical-align: middle;\n  width: 1em;\n  height: 1.5em !important;\n  stroke-width: 0;\n  stroke: currentColor;\n  fill: currentColor;\n}\n</style><pre class='xr-text-repr-fallback'>&lt;xarray.Dataset&gt;\nDimensions:  (lat: 73, lon: 144, time: 731)\nCoordinates:\n  * lon      (lon) float32 0.0 2.5 5.0 7.5 10.0 ... 350.0 352.5 355.0 357.5\n  * time     (time) datetime64[ns] 1948-01-01 1948-01-02 ... 1949-12-31\n  * lat      (lat) float32 90.0 87.5 85.0 82.5 80.0 ... -82.5 -85.0 -87.5 -90.0\nData variables:\n    air      (time, lat, lon) float32 dask.array&lt;chunksize=(366, 73, 144), meta=np.ndarray&gt;\nAttributes:\n    Conventions:                     COARDS\n    title:                           mean daily NMC reanalysis (1948)\n    description:                     Data is from NMC initialized reanalysis\\...\n    platform:                        Model\n    history:                         created 99/05/11 by Hoop (netCDF2.3)\\nCo...\n    dataset_title:                   NCEP-NCAR Reanalysis 1\n    References:                      http://www.psl.noaa.gov/data/gridded/dat...\n    DODS_EXTRA.Unlimited_Dimension:  time</pre><div class='xr-wrap' hidden><div class='xr-header'><div class='xr-obj-type'>xarray.Dataset</div></div><ul class='xr-sections'><li class='xr-section-item'><input id='section-858d544b-cc02-4b8b-b8db-b1667baf7a4e' class='xr-section-summary-in' type='checkbox' disabled ><label for='section-858d544b-cc02-4b8b-b8db-b1667baf7a4e' class='xr-section-summary'  title='Expand/collapse section'>Dimensions:</label><div class='xr-section-inline-details'><ul class='xr-dim-list'><li><span class='xr-has-index'>lat</span>: 73</li><li><span class='xr-has-index'>lon</span>: 144</li><li><span class='xr-has-index'>time</span>: 731</li></ul></div><div class='xr-section-details'></div></li><li class='xr-section-item'><input id='section-72329562-832a-4cbe-97e7-df5aaf755385' class='xr-section-summary-in' type='checkbox'  checked><label for='section-72329562-832a-4cbe-97e7-df5aaf755385' class='xr-section-summary' >Coordinates: <span>(3)</span></label><div class='xr-section-inline-details'></div><div class='xr-section-details'><ul class='xr-var-list'><li class='xr-var-item'><div class='xr-var-name'><span class='xr-has-index'>lon</span></div><div class='xr-var-dims'>(lon)</div><div class='xr-var-dtype'>float32</div><div class='xr-var-preview xr-preview'>0.0 2.5 5.0 ... 352.5 355.0 357.5</div><input id='attrs-557d3d4e-83da-4b1d-ae78-3a60567df165' class='xr-var-attrs-in' type='checkbox' ><label for='attrs-557d3d4e-83da-4b1d-ae78-3a60567df165' title='Show/Hide attributes'><svg class='icon xr-icon-file-text2'><use xlink:href='#icon-file-text2'></use></svg></label><input id='data-756018ca-fe0e-418b-a9f8-c63682c0a586' class='xr-var-data-in' type='checkbox'><label for='data-756018ca-fe0e-418b-a9f8-c63682c0a586' title='Show/Hide data repr'><svg class='icon xr-icon-database'><use xlink:href='#icon-database'></use></svg></label><div class='xr-var-attrs'><dl class='xr-attrs'><dt><span>units :</span></dt><dd>degrees_east</dd><dt><span>long_name :</span></dt><dd>Longitude</dd><dt><span>actual_range :</span></dt><dd>[0.0, 357.5]</dd><dt><span>standard_name :</span></dt><dd>longitude</dd><dt><span>axis :</span></dt><dd>X</dd></dl></div><div class='xr-var-data'><pre>array([  0. ,   2.5,   5. ,   7.5,  10. ,  12.5,  15. ,  17.5,  20. ,  22.5,\n        25. ,  27.5,  30. ,  32.5,  35. ,  37.5,  40. ,  42.5,  45. ,  47.5,\n        50. ,  52.5,  55. ,  57.5,  60. ,  62.5,  65. ,  67.5,  70. ,  72.5,\n        75. ,  77.5,  80. ,  82.5,  85. ,  87.5,  90. ,  92.5,  95. ,  97.5,\n       100. , 102.5, 105. , 107.5, 110. , 112.5, 115. , 117.5, 120. , 122.5,\n       125. , 127.5, 130. , 132.5, 135. , 137.5, 140. , 142.5, 145. , 147.5,\n       150. , 152.5, 155. , 157.5, 160. , 162.5, 165. , 167.5, 170. , 172.5,\n       175. , 177.5, 180. , 182.5, 185. , 187.5, 190. , 192.5, 195. , 197.5,\n       200. , 202.5, 205. , 207.5, 210. , 212.5, 215. , 217.5, 220. , 222.5,\n       225. , 227.5, 230. , 232.5, 235. , 237.5, 240. , 242.5, 245. , 247.5,\n       250. , 252.5, 255. , 257.5, 260. , 262.5, 265. , 267.5, 270. , 272.5,\n       275. , 277.5, 280. , 282.5, 285. , 287.5, 290. , 292.5, 295. , 297.5,\n       300. , 302.5, 305. , 307.5, 310. , 312.5, 315. , 317.5, 320. , 322.5,\n       325. , 327.5, 330. , 332.5, 335. , 337.5, 340. , 342.5, 345. , 347.5,\n       350. , 352.5, 355. , 357.5], dtype=float32)</pre></div></li><li class='xr-var-item'><div class='xr-var-name'><span class='xr-has-index'>time</span></div><div class='xr-var-dims'>(time)</div><div class='xr-var-dtype'>datetime64[ns]</div><div class='xr-var-preview xr-preview'>1948-01-01 ... 1949-12-31</div><input id='attrs-935a256a-d835-4460-91d2-a04388003cdb' class='xr-var-attrs-in' type='checkbox' ><label for='attrs-935a256a-d835-4460-91d2-a04388003cdb' title='Show/Hide attributes'><svg class='icon xr-icon-file-text2'><use xlink:href='#icon-file-text2'></use></svg></label><input id='data-e10c5f59-a453-451a-8bc4-43f382d27043' class='xr-var-data-in' type='checkbox'><label for='data-e10c5f59-a453-451a-8bc4-43f382d27043' title='Show/Hide data repr'><svg class='icon xr-icon-database'><use xlink:href='#icon-database'></use></svg></label><div class='xr-var-attrs'><dl class='xr-attrs'><dt><span>long_name :</span></dt><dd>Time</dd><dt><span>delta_t :</span></dt><dd>0000-00-01 00:00:00</dd><dt><span>avg_period :</span></dt><dd>0000-00-01 00:00:00</dd><dt><span>standard_name :</span></dt><dd>time</dd><dt><span>axis :</span></dt><dd>T</dd><dt><span>actual_range :</span></dt><dd>[1297320.0, 1306080.0]</dd><dt><span>_ChunkSizes :</span></dt><dd>1</dd></dl></div><div class='xr-var-data'><pre>array([&#x27;1948-01-01T00:00:00.000000000&#x27;, &#x27;1948-01-02T00:00:00.000000000&#x27;,\n       &#x27;1948-01-03T00:00:00.000000000&#x27;, ..., &#x27;1949-12-29T00:00:00.000000000&#x27;,\n       &#x27;1949-12-30T00:00:00.000000000&#x27;, &#x27;1949-12-31T00:00:00.000000000&#x27;],\n      dtype=&#x27;datetime64[ns]&#x27;)</pre></div></li><li class='xr-var-item'><div class='xr-var-name'><span class='xr-has-index'>lat</span></div><div class='xr-var-dims'>(lat)</div><div class='xr-var-dtype'>float32</div><div class='xr-var-preview xr-preview'>90.0 87.5 85.0 ... -87.5 -90.0</div><input id='attrs-a6765014-a9e7-4849-a2ca-8090e3851392' class='xr-var-attrs-in' type='checkbox' ><label for='attrs-a6765014-a9e7-4849-a2ca-8090e3851392' title='Show/Hide attributes'><svg class='icon xr-icon-file-text2'><use xlink:href='#icon-file-text2'></use></svg></label><input id='data-1cc1f4b0-6b7f-45a3-9ae3-602f4e40d187' class='xr-var-data-in' type='checkbox'><label for='data-1cc1f4b0-6b7f-45a3-9ae3-602f4e40d187' title='Show/Hide data repr'><svg class='icon xr-icon-database'><use xlink:href='#icon-database'></use></svg></label><div class='xr-var-attrs'><dl class='xr-attrs'><dt><span>units :</span></dt><dd>degrees_north</dd><dt><span>actual_range :</span></dt><dd>[90.0, -90.0]</dd><dt><span>long_name :</span></dt><dd>Latitude</dd><dt><span>standard_name :</span></dt><dd>latitude</dd><dt><span>axis :</span></dt><dd>Y</dd></dl></div><div class='xr-var-data'><pre>array([ 90. ,  87.5,  85. ,  82.5,  80. ,  77.5,  75. ,  72.5,  70. ,  67.5,\n        65. ,  62.5,  60. ,  57.5,  55. ,  52.5,  50. ,  47.5,  45. ,  42.5,\n        40. ,  37.5,  35. ,  32.5,  30. ,  27.5,  25. ,  22.5,  20. ,  17.5,\n        15. ,  12.5,  10. ,   7.5,   5. ,   2.5,   0. ,  -2.5,  -5. ,  -7.5,\n       -10. , -12.5, -15. , -17.5, -20. , -22.5, -25. , -27.5, -30. , -32.5,\n       -35. , -37.5, -40. , -42.5, -45. , -47.5, -50. , -52.5, -55. , -57.5,\n       -60. , -62.5, -65. , -67.5, -70. , -72.5, -75. , -77.5, -80. , -82.5,\n       -85. , -87.5, -90. ], dtype=float32)</pre></div></li></ul></div></li><li class='xr-section-item'><input id='section-7567597f-800c-4c39-bded-0cf094719bce' class='xr-section-summary-in' type='checkbox'  checked><label for='section-7567597f-800c-4c39-bded-0cf094719bce' class='xr-section-summary' >Data variables: <span>(1)</span></label><div class='xr-section-inline-details'></div><div class='xr-section-details'><ul class='xr-var-list'><li class='xr-var-item'><div class='xr-var-name'><span>air</span></div><div class='xr-var-dims'>(time, lat, lon)</div><div class='xr-var-dtype'>float32</div><div class='xr-var-preview xr-preview'>dask.array&lt;chunksize=(366, 73, 144), meta=np.ndarray&gt;</div><input id='attrs-4c46ae49-f19f-4491-bcad-c34d1071c963' class='xr-var-attrs-in' type='checkbox' ><label for='attrs-4c46ae49-f19f-4491-bcad-c34d1071c963' title='Show/Hide attributes'><svg class='icon xr-icon-file-text2'><use xlink:href='#icon-file-text2'></use></svg></label><input id='data-8581bc14-9862-4b38-8eb1-b255b736b98c' class='xr-var-data-in' type='checkbox'><label for='data-8581bc14-9862-4b38-8eb1-b255b736b98c' title='Show/Hide data repr'><svg class='icon xr-icon-database'><use xlink:href='#icon-database'></use></svg></label><div class='xr-var-attrs'><dl class='xr-attrs'><dt><span>long_name :</span></dt><dd>mean Daily Air temperature at sigma level 995</dd><dt><span>units :</span></dt><dd>degK</dd><dt><span>precision :</span></dt><dd>2</dd><dt><span>least_significant_digit :</span></dt><dd>1</dd><dt><span>GRIB_id :</span></dt><dd>11</dd><dt><span>GRIB_name :</span></dt><dd>TMP</dd><dt><span>var_desc :</span></dt><dd>Air temperature</dd><dt><span>dataset :</span></dt><dd>NCEP Reanalysis Daily Averages</dd><dt><span>level_desc :</span></dt><dd>Surface</dd><dt><span>statistic :</span></dt><dd>Mean</dd><dt><span>parent_stat :</span></dt><dd>Individual Obs</dd><dt><span>actual_range :</span></dt><dd>[188.29001, 315.3]</dd><dt><span>valid_range :</span></dt><dd>[185.16, 331.16]</dd><dt><span>_ChunkSizes :</span></dt><dd>[1, 73, 144]</dd></dl></div><div class='xr-var-data'><table>\n<tr>\n<td>\n<table>\n  <thead>\n    <tr><td> </td><th> Array </th><th> Chunk </th></tr>\n  </thead>\n  <tbody>\n    <tr><th> Bytes </th><td> 29.31 MiB </td> <td> 14.68 MiB </td></tr>\n    <tr><th> Shape </th><td> (731, 73, 144) </td> <td> (366, 73, 144) </td></tr>\n    <tr><th> Count </th><td> 6 Tasks </td><td> 2 Chunks </td></tr>\n    <tr><th> Type </th><td> float32 </td><td> numpy.ndarray </td></tr>\n  </tbody>\n</table>\n</td>\n<td>\n<svg width=\"172\" height=\"159\" style=\"stroke:rgb(0,0,0);stroke-width:1\" >\n\n  <!-- Horizontal lines -->\n  <line x1=\"10\" y1=\"0\" x2=\"80\" y2=\"70\" style=\"stroke-width:2\" />\n  <line x1=\"10\" y1=\"38\" x2=\"80\" y2=\"109\" style=\"stroke-width:2\" />\n\n  <!-- Vertical lines -->\n  <line x1=\"10\" y1=\"0\" x2=\"10\" y2=\"38\" style=\"stroke-width:2\" />\n  <line x1=\"45\" y1=\"35\" x2=\"45\" y2=\"73\" />\n  <line x1=\"80\" y1=\"70\" x2=\"80\" y2=\"109\" style=\"stroke-width:2\" />\n\n  <!-- Colored Rectangle -->\n  <polygon points=\"10.0,0.0 80.58823529411765,70.58823529411765 80.58823529411765,109.17751021805344 10.0,38.5892749239358\" style=\"fill:#ECB172A0;stroke-width:0\"/>\n\n  <!-- Horizontal lines -->\n  <line x1=\"10\" y1=\"0\" x2=\"51\" y2=\"0\" style=\"stroke-width:2\" />\n  <line x1=\"45\" y1=\"35\" x2=\"87\" y2=\"35\" />\n  <line x1=\"80\" y1=\"70\" x2=\"122\" y2=\"70\" style=\"stroke-width:2\" />\n\n  <!-- Vertical lines -->\n  <line x1=\"10\" y1=\"0\" x2=\"80\" y2=\"70\" style=\"stroke-width:2\" />\n  <line x1=\"51\" y1=\"0\" x2=\"122\" y2=\"70\" style=\"stroke-width:2\" />\n\n  <!-- Colored Rectangle -->\n  <polygon points=\"10.0,0.0 51.94556442005963,0.0 122.53379971417729,70.58823529411765 80.58823529411765,70.58823529411765\" style=\"fill:#ECB172A0;stroke-width:0\"/>\n\n  <!-- Horizontal lines -->\n  <line x1=\"80\" y1=\"70\" x2=\"122\" y2=\"70\" style=\"stroke-width:2\" />\n  <line x1=\"80\" y1=\"109\" x2=\"122\" y2=\"109\" style=\"stroke-width:2\" />\n\n  <!-- Vertical lines -->\n  <line x1=\"80\" y1=\"70\" x2=\"80\" y2=\"109\" style=\"stroke-width:2\" />\n  <line x1=\"122\" y1=\"70\" x2=\"122\" y2=\"109\" style=\"stroke-width:2\" />\n\n  <!-- Colored Rectangle -->\n  <polygon points=\"80.58823529411765,70.58823529411765 122.53379971417729,70.58823529411765 122.53379971417729,109.17751021805344 80.58823529411765,109.17751021805344\" style=\"fill:#ECB172A0;stroke-width:0\"/>\n\n  <!-- Text -->\n  <text x=\"101.561018\" y=\"129.177510\" font-size=\"1.0rem\" font-weight=\"100\" text-anchor=\"middle\" >144</text>\n  <text x=\"142.533800\" y=\"89.882873\" font-size=\"1.0rem\" font-weight=\"100\" text-anchor=\"middle\" transform=\"rotate(0,142.533800,89.882873)\">73</text>\n  <text x=\"35.294118\" y=\"93.883393\" font-size=\"1.0rem\" font-weight=\"100\" text-anchor=\"middle\" transform=\"rotate(45,35.294118,93.883393)\">731</text>\n</svg>\n</td>\n</tr>\n</table></div></li></ul></div></li><li class='xr-section-item'><input id='section-511a0e61-dd17-43d2-9d14-9b777d4b1278' class='xr-section-summary-in' type='checkbox'  checked><label for='section-511a0e61-dd17-43d2-9d14-9b777d4b1278' class='xr-section-summary' >Attributes: <span>(8)</span></label><div class='xr-section-inline-details'></div><div class='xr-section-details'><dl class='xr-attrs'><dt><span>Conventions :</span></dt><dd>COARDS</dd><dt><span>title :</span></dt><dd>mean daily NMC reanalysis (1948)</dd><dt><span>description :</span></dt><dd>Data is from NMC initialized reanalysis\n(4x/day).  These are the 0.9950 sigma level values.</dd><dt><span>platform :</span></dt><dd>Model</dd><dt><span>history :</span></dt><dd>created 99/05/11 by Hoop (netCDF2.3)\nConverted to chunked, deflated non-packed NetCDF4 2014/09</dd><dt><span>dataset_title :</span></dt><dd>NCEP-NCAR Reanalysis 1</dd><dt><span>References :</span></dt><dd>http://www.psl.noaa.gov/data/gridded/data.ncep.reanalysis.html</dd><dt><span>DODS_EXTRA.Unlimited_Dimension :</span></dt><dd>time</dd></dl></div></li></ul></div></div>"
     },
     "metadata": {},
     "execution_count": 14
    }
   ],
   "source": [
    "%%time\n",
    "ds = source.to_dask()\n",
    "ds"
   ]
  },
  {
   "cell_type": "markdown",
   "metadata": {},
   "source": [
    "## Caching\n",
    "\n",
    "Under the hood `intake-thredds` uses the `driver='opendap'` from `intake-xarray` by default. You can also choose\n",
    "`driver='netcdf'`, which in combination with `fsspec` caches files by appending `simplecache::` to the url,\n",
    "see https://filesystem-spec.readthedocs.io/en/latest/features.html#remote-write-caching."
   ]
  },
  {
   "cell_type": "code",
   "execution_count": 15,
   "metadata": {},
   "outputs": [
    {
     "output_type": "stream",
     "name": "stdout",
     "text": [
      "sources:\n  thredds_merged:\n    args:\n      driver: netcdf\n      path:\n      - Datasets\n      - ncep.reanalysis.dailyavgs\n      - surface\n      - air.sig995.194*.nc\n      url: simplecache::https://psl.noaa.gov/thredds/catalog.xml\n    description: ''\n    driver: intake_thredds.source.THREDDSMergedSource\n    metadata:\n      fsspec_pre_url: 'simplecache::'\n\n"
     ]
    }
   ],
   "source": [
    "import os\n",
    "\n",
    "import fsspec\n",
    "\n",
    "# specify caching location, where to store files to with their original names\n",
    "fsspec.config.conf['simplecache'] = {'cache_storage': 'my_caching_folder', 'same_names': True}\n",
    "\n",
    "cat_url = 'https://psl.noaa.gov/thredds/catalog.xml'\n",
    "source = intake.open_thredds_merged(\n",
    "    f'simplecache::{cat_url}',\n",
    "    path=['Datasets', 'ncep.reanalysis.dailyavgs', 'surface', 'air.sig995.194*.nc'],\n",
    "    driver='netcdf',  # specify netcdf driver to open HTTPServer\n",
    ")\n",
    "print(source)"
   ]
  },
  {
   "cell_type": "code",
   "execution_count": 16,
   "metadata": {},
   "outputs": [
    {
     "output_type": "stream",
     "name": "stderr",
     "text": [
      "Dataset(s): 100%|████████████████████████████████| 2/2 [00:00<00:00, 21.43it/s]CPU times: user 422 ms, sys: 31.4 ms, total: 454 ms\n",
      "Wall time: 2.89 s\n",
      "\n"
     ]
    }
   ],
   "source": [
    "%time ds = source.to_dask()"
   ]
  },
  {
   "cell_type": "code",
   "execution_count": 17,
   "id": "biblical-diana",
   "metadata": {},
   "outputs": [],
   "source": [
    "assert os.path.exists('my_caching_folder/air.sig995.1949.nc')"
   ]
  },
  {
   "cell_type": "code",
   "execution_count": 18,
   "metadata": {},
   "outputs": [
    {
     "output_type": "stream",
     "name": "stdout",
     "text": [
      "CPU times: user 8 µs, sys: 0 ns, total: 8 µs\nWall time: 11.2 µs\n"
     ]
    }
   ],
   "source": [
    "# after caching very fast\n",
    "%time ds = source.to_dask()"
   ]
  },
  {
   "source": [
    "## Multi-file concat_kwargs cfgrib"
   ],
   "cell_type": "markdown",
   "metadata": {}
  },
  {
   "source": [
    "Another example of this is to read in ensemble members in parallel for GEFS. The example below reads in 21 ensemble members for a single timestep. It also demonstrates usage of `xarray_kwargs` which are passed on to `xarray` for opening the files, which in this cases uses the `cfgrib` engine:"
   ],
   "cell_type": "markdown",
   "metadata": {}
  },
  {
   "cell_type": "code",
   "execution_count": 19,
   "metadata": {},
   "outputs": [
    {
     "output_type": "stream",
     "name": "stderr",
     "text": [
      "Dataset(s): 100%|██████████████████████████████| 21/21 [00:00<00:00, 35.56it/s]\n"
     ]
    },
    {
     "output_type": "execute_result",
     "data": {
      "text/plain": [
       "<xarray.Dataset>\n",
       "Dimensions:            (latitude: 181, longitude: 360, number: 21)\n",
       "Coordinates:\n",
       "  * number             (number) int64 20 19 18 17 16 15 14 13 ... 6 5 4 3 2 1 0\n",
       "    time               datetime64[ns] 2020-08-31\n",
       "    step               timedelta64[ns] 15 days 12:00:00\n",
       "    heightAboveGround  float64 2.0\n",
       "  * latitude           (latitude) float64 90.0 89.0 88.0 ... -88.0 -89.0 -90.0\n",
       "  * longitude          (longitude) float64 0.0 1.0 2.0 3.0 ... 357.0 358.0 359.0\n",
       "    valid_time         datetime64[ns] 2020-09-15T12:00:00\n",
       "Data variables:\n",
       "    t2m                (number, latitude, longitude) float32 dask.array<chunksize=(1, 181, 360), meta=np.ndarray>\n",
       "Attributes:\n",
       "    GRIB_edition:            2\n",
       "    GRIB_centre:             kwbc\n",
       "    GRIB_centreDescription:  US National Weather Service - NCEP \n",
       "    GRIB_subCentre:          2\n",
       "    Conventions:             CF-1.7\n",
       "    institution:             US National Weather Service - NCEP \n",
       "    history:                 2021-06-09T17:47 GRIB to CDM+CF via cfgrib-0.9.9..."
      ],
      "text/html": "<div><svg style=\"position: absolute; width: 0; height: 0; overflow: hidden\">\n<defs>\n<symbol id=\"icon-database\" viewBox=\"0 0 32 32\">\n<path d=\"M16 0c-8.837 0-16 2.239-16 5v4c0 2.761 7.163 5 16 5s16-2.239 16-5v-4c0-2.761-7.163-5-16-5z\"></path>\n<path d=\"M16 17c-8.837 0-16-2.239-16-5v6c0 2.761 7.163 5 16 5s16-2.239 16-5v-6c0 2.761-7.163 5-16 5z\"></path>\n<path d=\"M16 26c-8.837 0-16-2.239-16-5v6c0 2.761 7.163 5 16 5s16-2.239 16-5v-6c0 2.761-7.163 5-16 5z\"></path>\n</symbol>\n<symbol id=\"icon-file-text2\" viewBox=\"0 0 32 32\">\n<path d=\"M28.681 7.159c-0.694-0.947-1.662-2.053-2.724-3.116s-2.169-2.030-3.116-2.724c-1.612-1.182-2.393-1.319-2.841-1.319h-15.5c-1.378 0-2.5 1.121-2.5 2.5v27c0 1.378 1.122 2.5 2.5 2.5h23c1.378 0 2.5-1.122 2.5-2.5v-19.5c0-0.448-0.137-1.23-1.319-2.841zM24.543 5.457c0.959 0.959 1.712 1.825 2.268 2.543h-4.811v-4.811c0.718 0.556 1.584 1.309 2.543 2.268zM28 29.5c0 0.271-0.229 0.5-0.5 0.5h-23c-0.271 0-0.5-0.229-0.5-0.5v-27c0-0.271 0.229-0.5 0.5-0.5 0 0 15.499-0 15.5 0v7c0 0.552 0.448 1 1 1h7v19.5z\"></path>\n<path d=\"M23 26h-14c-0.552 0-1-0.448-1-1s0.448-1 1-1h14c0.552 0 1 0.448 1 1s-0.448 1-1 1z\"></path>\n<path d=\"M23 22h-14c-0.552 0-1-0.448-1-1s0.448-1 1-1h14c0.552 0 1 0.448 1 1s-0.448 1-1 1z\"></path>\n<path d=\"M23 18h-14c-0.552 0-1-0.448-1-1s0.448-1 1-1h14c0.552 0 1 0.448 1 1s-0.448 1-1 1z\"></path>\n</symbol>\n</defs>\n</svg>\n<style>/* CSS stylesheet for displaying xarray objects in jupyterlab.\n *\n */\n\n:root {\n  --xr-font-color0: var(--jp-content-font-color0, rgba(0, 0, 0, 1));\n  --xr-font-color2: var(--jp-content-font-color2, rgba(0, 0, 0, 0.54));\n  --xr-font-color3: var(--jp-content-font-color3, rgba(0, 0, 0, 0.38));\n  --xr-border-color: var(--jp-border-color2, #e0e0e0);\n  --xr-disabled-color: var(--jp-layout-color3, #bdbdbd);\n  --xr-background-color: var(--jp-layout-color0, white);\n  --xr-background-color-row-even: var(--jp-layout-color1, white);\n  --xr-background-color-row-odd: var(--jp-layout-color2, #eeeeee);\n}\n\nhtml[theme=dark],\nbody.vscode-dark {\n  --xr-font-color0: rgba(255, 255, 255, 1);\n  --xr-font-color2: rgba(255, 255, 255, 0.54);\n  --xr-font-color3: rgba(255, 255, 255, 0.38);\n  --xr-border-color: #1F1F1F;\n  --xr-disabled-color: #515151;\n  --xr-background-color: #111111;\n  --xr-background-color-row-even: #111111;\n  --xr-background-color-row-odd: #313131;\n}\n\n.xr-wrap {\n  display: block;\n  min-width: 300px;\n  max-width: 700px;\n}\n\n.xr-text-repr-fallback {\n  /* fallback to plain text repr when CSS is not injected (untrusted notebook) */\n  display: none;\n}\n\n.xr-header {\n  padding-top: 6px;\n  padding-bottom: 6px;\n  margin-bottom: 4px;\n  border-bottom: solid 1px var(--xr-border-color);\n}\n\n.xr-header > div,\n.xr-header > ul {\n  display: inline;\n  margin-top: 0;\n  margin-bottom: 0;\n}\n\n.xr-obj-type,\n.xr-array-name {\n  margin-left: 2px;\n  margin-right: 10px;\n}\n\n.xr-obj-type {\n  color: var(--xr-font-color2);\n}\n\n.xr-sections {\n  padding-left: 0 !important;\n  display: grid;\n  grid-template-columns: 150px auto auto 1fr 20px 20px;\n}\n\n.xr-section-item {\n  display: contents;\n}\n\n.xr-section-item input {\n  display: none;\n}\n\n.xr-section-item input + label {\n  color: var(--xr-disabled-color);\n}\n\n.xr-section-item input:enabled + label {\n  cursor: pointer;\n  color: var(--xr-font-color2);\n}\n\n.xr-section-item input:enabled + label:hover {\n  color: var(--xr-font-color0);\n}\n\n.xr-section-summary {\n  grid-column: 1;\n  color: var(--xr-font-color2);\n  font-weight: 500;\n}\n\n.xr-section-summary > span {\n  display: inline-block;\n  padding-left: 0.5em;\n}\n\n.xr-section-summary-in:disabled + label {\n  color: var(--xr-font-color2);\n}\n\n.xr-section-summary-in + label:before {\n  display: inline-block;\n  content: '►';\n  font-size: 11px;\n  width: 15px;\n  text-align: center;\n}\n\n.xr-section-summary-in:disabled + label:before {\n  color: var(--xr-disabled-color);\n}\n\n.xr-section-summary-in:checked + label:before {\n  content: '▼';\n}\n\n.xr-section-summary-in:checked + label > span {\n  display: none;\n}\n\n.xr-section-summary,\n.xr-section-inline-details {\n  padding-top: 4px;\n  padding-bottom: 4px;\n}\n\n.xr-section-inline-details {\n  grid-column: 2 / -1;\n}\n\n.xr-section-details {\n  display: none;\n  grid-column: 1 / -1;\n  margin-bottom: 5px;\n}\n\n.xr-section-summary-in:checked ~ .xr-section-details {\n  display: contents;\n}\n\n.xr-array-wrap {\n  grid-column: 1 / -1;\n  display: grid;\n  grid-template-columns: 20px auto;\n}\n\n.xr-array-wrap > label {\n  grid-column: 1;\n  vertical-align: top;\n}\n\n.xr-preview {\n  color: var(--xr-font-color3);\n}\n\n.xr-array-preview,\n.xr-array-data {\n  padding: 0 5px !important;\n  grid-column: 2;\n}\n\n.xr-array-data,\n.xr-array-in:checked ~ .xr-array-preview {\n  display: none;\n}\n\n.xr-array-in:checked ~ .xr-array-data,\n.xr-array-preview {\n  display: inline-block;\n}\n\n.xr-dim-list {\n  display: inline-block !important;\n  list-style: none;\n  padding: 0 !important;\n  margin: 0;\n}\n\n.xr-dim-list li {\n  display: inline-block;\n  padding: 0;\n  margin: 0;\n}\n\n.xr-dim-list:before {\n  content: '(';\n}\n\n.xr-dim-list:after {\n  content: ')';\n}\n\n.xr-dim-list li:not(:last-child):after {\n  content: ',';\n  padding-right: 5px;\n}\n\n.xr-has-index {\n  font-weight: bold;\n}\n\n.xr-var-list,\n.xr-var-item {\n  display: contents;\n}\n\n.xr-var-item > div,\n.xr-var-item label,\n.xr-var-item > .xr-var-name span {\n  background-color: var(--xr-background-color-row-even);\n  margin-bottom: 0;\n}\n\n.xr-var-item > .xr-var-name:hover span {\n  padding-right: 5px;\n}\n\n.xr-var-list > li:nth-child(odd) > div,\n.xr-var-list > li:nth-child(odd) > label,\n.xr-var-list > li:nth-child(odd) > .xr-var-name span {\n  background-color: var(--xr-background-color-row-odd);\n}\n\n.xr-var-name {\n  grid-column: 1;\n}\n\n.xr-var-dims {\n  grid-column: 2;\n}\n\n.xr-var-dtype {\n  grid-column: 3;\n  text-align: right;\n  color: var(--xr-font-color2);\n}\n\n.xr-var-preview {\n  grid-column: 4;\n}\n\n.xr-var-name,\n.xr-var-dims,\n.xr-var-dtype,\n.xr-preview,\n.xr-attrs dt {\n  white-space: nowrap;\n  overflow: hidden;\n  text-overflow: ellipsis;\n  padding-right: 10px;\n}\n\n.xr-var-name:hover,\n.xr-var-dims:hover,\n.xr-var-dtype:hover,\n.xr-attrs dt:hover {\n  overflow: visible;\n  width: auto;\n  z-index: 1;\n}\n\n.xr-var-attrs,\n.xr-var-data {\n  display: none;\n  background-color: var(--xr-background-color) !important;\n  padding-bottom: 5px !important;\n}\n\n.xr-var-attrs-in:checked ~ .xr-var-attrs,\n.xr-var-data-in:checked ~ .xr-var-data {\n  display: block;\n}\n\n.xr-var-data > table {\n  float: right;\n}\n\n.xr-var-name span,\n.xr-var-data,\n.xr-attrs {\n  padding-left: 25px !important;\n}\n\n.xr-attrs,\n.xr-var-attrs,\n.xr-var-data {\n  grid-column: 1 / -1;\n}\n\ndl.xr-attrs {\n  padding: 0;\n  margin: 0;\n  display: grid;\n  grid-template-columns: 125px auto;\n}\n\n.xr-attrs dt,\n.xr-attrs dd {\n  padding: 0;\n  margin: 0;\n  float: left;\n  padding-right: 10px;\n  width: auto;\n}\n\n.xr-attrs dt {\n  font-weight: normal;\n  grid-column: 1;\n}\n\n.xr-attrs dt:hover span {\n  display: inline-block;\n  background: var(--xr-background-color);\n  padding-right: 10px;\n}\n\n.xr-attrs dd {\n  grid-column: 2;\n  white-space: pre-wrap;\n  word-break: break-all;\n}\n\n.xr-icon-database,\n.xr-icon-file-text2 {\n  display: inline-block;\n  vertical-align: middle;\n  width: 1em;\n  height: 1.5em !important;\n  stroke-width: 0;\n  stroke: currentColor;\n  fill: currentColor;\n}\n</style><pre class='xr-text-repr-fallback'>&lt;xarray.Dataset&gt;\nDimensions:            (latitude: 181, longitude: 360, number: 21)\nCoordinates:\n  * number             (number) int64 20 19 18 17 16 15 14 13 ... 6 5 4 3 2 1 0\n    time               datetime64[ns] 2020-08-31\n    step               timedelta64[ns] 15 days 12:00:00\n    heightAboveGround  float64 2.0\n  * latitude           (latitude) float64 90.0 89.0 88.0 ... -88.0 -89.0 -90.0\n  * longitude          (longitude) float64 0.0 1.0 2.0 3.0 ... 357.0 358.0 359.0\n    valid_time         datetime64[ns] 2020-09-15T12:00:00\nData variables:\n    t2m                (number, latitude, longitude) float32 dask.array&lt;chunksize=(1, 181, 360), meta=np.ndarray&gt;\nAttributes:\n    GRIB_edition:            2\n    GRIB_centre:             kwbc\n    GRIB_centreDescription:  US National Weather Service - NCEP \n    GRIB_subCentre:          2\n    Conventions:             CF-1.7\n    institution:             US National Weather Service - NCEP \n    history:                 2021-06-09T17:47 GRIB to CDM+CF via cfgrib-0.9.9...</pre><div class='xr-wrap' hidden><div class='xr-header'><div class='xr-obj-type'>xarray.Dataset</div></div><ul class='xr-sections'><li class='xr-section-item'><input id='section-c26a58e0-9d99-4abf-9089-2bc68809e127' class='xr-section-summary-in' type='checkbox' disabled ><label for='section-c26a58e0-9d99-4abf-9089-2bc68809e127' class='xr-section-summary'  title='Expand/collapse section'>Dimensions:</label><div class='xr-section-inline-details'><ul class='xr-dim-list'><li><span class='xr-has-index'>latitude</span>: 181</li><li><span class='xr-has-index'>longitude</span>: 360</li><li><span class='xr-has-index'>number</span>: 21</li></ul></div><div class='xr-section-details'></div></li><li class='xr-section-item'><input id='section-30f0ec77-468b-46cf-9116-31e9f5149248' class='xr-section-summary-in' type='checkbox'  checked><label for='section-30f0ec77-468b-46cf-9116-31e9f5149248' class='xr-section-summary' >Coordinates: <span>(7)</span></label><div class='xr-section-inline-details'></div><div class='xr-section-details'><ul class='xr-var-list'><li class='xr-var-item'><div class='xr-var-name'><span class='xr-has-index'>number</span></div><div class='xr-var-dims'>(number)</div><div class='xr-var-dtype'>int64</div><div class='xr-var-preview xr-preview'>20 19 18 17 16 15 ... 5 4 3 2 1 0</div><input id='attrs-f4ff9749-3782-437c-b9d0-8cb7e7347dd2' class='xr-var-attrs-in' type='checkbox' ><label for='attrs-f4ff9749-3782-437c-b9d0-8cb7e7347dd2' title='Show/Hide attributes'><svg class='icon xr-icon-file-text2'><use xlink:href='#icon-file-text2'></use></svg></label><input id='data-f2a96717-e0ef-41c1-85e6-57fb36270829' class='xr-var-data-in' type='checkbox'><label for='data-f2a96717-e0ef-41c1-85e6-57fb36270829' title='Show/Hide data repr'><svg class='icon xr-icon-database'><use xlink:href='#icon-database'></use></svg></label><div class='xr-var-attrs'><dl class='xr-attrs'><dt><span>long_name :</span></dt><dd>ensemble member numerical id</dd><dt><span>units :</span></dt><dd>1</dd><dt><span>standard_name :</span></dt><dd>realization</dd></dl></div><div class='xr-var-data'><pre>array([20, 19, 18, 17, 16, 15, 14, 13, 12, 11, 10,  9,  8,  7,  6,  5,  4,  3,\n        2,  1,  0])</pre></div></li><li class='xr-var-item'><div class='xr-var-name'><span>time</span></div><div class='xr-var-dims'>()</div><div class='xr-var-dtype'>datetime64[ns]</div><div class='xr-var-preview xr-preview'>2020-08-31</div><input id='attrs-c6619a9d-74cd-4501-9657-2b368edc6675' class='xr-var-attrs-in' type='checkbox' ><label for='attrs-c6619a9d-74cd-4501-9657-2b368edc6675' title='Show/Hide attributes'><svg class='icon xr-icon-file-text2'><use xlink:href='#icon-file-text2'></use></svg></label><input id='data-e1a1cd0e-6d56-4e75-b304-f8e497e8331f' class='xr-var-data-in' type='checkbox'><label for='data-e1a1cd0e-6d56-4e75-b304-f8e497e8331f' title='Show/Hide data repr'><svg class='icon xr-icon-database'><use xlink:href='#icon-database'></use></svg></label><div class='xr-var-attrs'><dl class='xr-attrs'><dt><span>long_name :</span></dt><dd>initial time of forecast</dd><dt><span>standard_name :</span></dt><dd>forecast_reference_time</dd></dl></div><div class='xr-var-data'><pre>array(&#x27;2020-08-31T00:00:00.000000000&#x27;, dtype=&#x27;datetime64[ns]&#x27;)</pre></div></li><li class='xr-var-item'><div class='xr-var-name'><span>step</span></div><div class='xr-var-dims'>()</div><div class='xr-var-dtype'>timedelta64[ns]</div><div class='xr-var-preview xr-preview'>15 days 12:00:00</div><input id='attrs-c4deb31a-29b1-4a6d-9ac7-e58a90a359af' class='xr-var-attrs-in' type='checkbox' ><label for='attrs-c4deb31a-29b1-4a6d-9ac7-e58a90a359af' title='Show/Hide attributes'><svg class='icon xr-icon-file-text2'><use xlink:href='#icon-file-text2'></use></svg></label><input id='data-52ed3f5e-af5f-4c8e-957e-f0b718870a01' class='xr-var-data-in' type='checkbox'><label for='data-52ed3f5e-af5f-4c8e-957e-f0b718870a01' title='Show/Hide data repr'><svg class='icon xr-icon-database'><use xlink:href='#icon-database'></use></svg></label><div class='xr-var-attrs'><dl class='xr-attrs'><dt><span>long_name :</span></dt><dd>time since forecast_reference_time</dd><dt><span>standard_name :</span></dt><dd>forecast_period</dd></dl></div><div class='xr-var-data'><pre>array(1339200000000000, dtype=&#x27;timedelta64[ns]&#x27;)</pre></div></li><li class='xr-var-item'><div class='xr-var-name'><span>heightAboveGround</span></div><div class='xr-var-dims'>()</div><div class='xr-var-dtype'>float64</div><div class='xr-var-preview xr-preview'>2.0</div><input id='attrs-41e1be38-f16c-41a6-bf13-7410bdb4069c' class='xr-var-attrs-in' type='checkbox' ><label for='attrs-41e1be38-f16c-41a6-bf13-7410bdb4069c' title='Show/Hide attributes'><svg class='icon xr-icon-file-text2'><use xlink:href='#icon-file-text2'></use></svg></label><input id='data-e8b17df6-90fa-4ff4-be80-64b96b4e8ab9' class='xr-var-data-in' type='checkbox'><label for='data-e8b17df6-90fa-4ff4-be80-64b96b4e8ab9' title='Show/Hide data repr'><svg class='icon xr-icon-database'><use xlink:href='#icon-database'></use></svg></label><div class='xr-var-attrs'><dl class='xr-attrs'><dt><span>long_name :</span></dt><dd>height above the surface</dd><dt><span>units :</span></dt><dd>m</dd><dt><span>positive :</span></dt><dd>up</dd><dt><span>standard_name :</span></dt><dd>height</dd></dl></div><div class='xr-var-data'><pre>array(2.)</pre></div></li><li class='xr-var-item'><div class='xr-var-name'><span class='xr-has-index'>latitude</span></div><div class='xr-var-dims'>(latitude)</div><div class='xr-var-dtype'>float64</div><div class='xr-var-preview xr-preview'>90.0 89.0 88.0 ... -89.0 -90.0</div><input id='attrs-0c38906b-dd37-4369-a428-71a58101ef3d' class='xr-var-attrs-in' type='checkbox' ><label for='attrs-0c38906b-dd37-4369-a428-71a58101ef3d' title='Show/Hide attributes'><svg class='icon xr-icon-file-text2'><use xlink:href='#icon-file-text2'></use></svg></label><input id='data-b765767e-a040-49db-989b-d6e8ad68b601' class='xr-var-data-in' type='checkbox'><label for='data-b765767e-a040-49db-989b-d6e8ad68b601' title='Show/Hide data repr'><svg class='icon xr-icon-database'><use xlink:href='#icon-database'></use></svg></label><div class='xr-var-attrs'><dl class='xr-attrs'><dt><span>units :</span></dt><dd>degrees_north</dd><dt><span>standard_name :</span></dt><dd>latitude</dd><dt><span>long_name :</span></dt><dd>latitude</dd><dt><span>stored_direction :</span></dt><dd>decreasing</dd></dl></div><div class='xr-var-data'><pre>array([ 90.,  89.,  88.,  87.,  86.,  85.,  84.,  83.,  82.,  81.,  80.,  79.,\n        78.,  77.,  76.,  75.,  74.,  73.,  72.,  71.,  70.,  69.,  68.,  67.,\n        66.,  65.,  64.,  63.,  62.,  61.,  60.,  59.,  58.,  57.,  56.,  55.,\n        54.,  53.,  52.,  51.,  50.,  49.,  48.,  47.,  46.,  45.,  44.,  43.,\n        42.,  41.,  40.,  39.,  38.,  37.,  36.,  35.,  34.,  33.,  32.,  31.,\n        30.,  29.,  28.,  27.,  26.,  25.,  24.,  23.,  22.,  21.,  20.,  19.,\n        18.,  17.,  16.,  15.,  14.,  13.,  12.,  11.,  10.,   9.,   8.,   7.,\n         6.,   5.,   4.,   3.,   2.,   1.,   0.,  -1.,  -2.,  -3.,  -4.,  -5.,\n        -6.,  -7.,  -8.,  -9., -10., -11., -12., -13., -14., -15., -16., -17.,\n       -18., -19., -20., -21., -22., -23., -24., -25., -26., -27., -28., -29.,\n       -30., -31., -32., -33., -34., -35., -36., -37., -38., -39., -40., -41.,\n       -42., -43., -44., -45., -46., -47., -48., -49., -50., -51., -52., -53.,\n       -54., -55., -56., -57., -58., -59., -60., -61., -62., -63., -64., -65.,\n       -66., -67., -68., -69., -70., -71., -72., -73., -74., -75., -76., -77.,\n       -78., -79., -80., -81., -82., -83., -84., -85., -86., -87., -88., -89.,\n       -90.])</pre></div></li><li class='xr-var-item'><div class='xr-var-name'><span class='xr-has-index'>longitude</span></div><div class='xr-var-dims'>(longitude)</div><div class='xr-var-dtype'>float64</div><div class='xr-var-preview xr-preview'>0.0 1.0 2.0 ... 357.0 358.0 359.0</div><input id='attrs-b141f76b-2e49-4a43-acf3-e0db74eba3b7' class='xr-var-attrs-in' type='checkbox' ><label for='attrs-b141f76b-2e49-4a43-acf3-e0db74eba3b7' title='Show/Hide attributes'><svg class='icon xr-icon-file-text2'><use xlink:href='#icon-file-text2'></use></svg></label><input id='data-cf1a9cf2-6406-460b-a5c1-836155e7fe05' class='xr-var-data-in' type='checkbox'><label for='data-cf1a9cf2-6406-460b-a5c1-836155e7fe05' title='Show/Hide data repr'><svg class='icon xr-icon-database'><use xlink:href='#icon-database'></use></svg></label><div class='xr-var-attrs'><dl class='xr-attrs'><dt><span>units :</span></dt><dd>degrees_east</dd><dt><span>standard_name :</span></dt><dd>longitude</dd><dt><span>long_name :</span></dt><dd>longitude</dd></dl></div><div class='xr-var-data'><pre>array([  0.,   1.,   2., ..., 357., 358., 359.])</pre></div></li><li class='xr-var-item'><div class='xr-var-name'><span>valid_time</span></div><div class='xr-var-dims'>()</div><div class='xr-var-dtype'>datetime64[ns]</div><div class='xr-var-preview xr-preview'>2020-09-15T12:00:00</div><input id='attrs-f457af2b-ba71-43f5-b8aa-3d69d8a62d95' class='xr-var-attrs-in' type='checkbox' ><label for='attrs-f457af2b-ba71-43f5-b8aa-3d69d8a62d95' title='Show/Hide attributes'><svg class='icon xr-icon-file-text2'><use xlink:href='#icon-file-text2'></use></svg></label><input id='data-e138f6a8-f9d9-4382-bcb9-6364d455d814' class='xr-var-data-in' type='checkbox'><label for='data-e138f6a8-f9d9-4382-bcb9-6364d455d814' title='Show/Hide data repr'><svg class='icon xr-icon-database'><use xlink:href='#icon-database'></use></svg></label><div class='xr-var-attrs'><dl class='xr-attrs'><dt><span>standard_name :</span></dt><dd>time</dd><dt><span>long_name :</span></dt><dd>time</dd></dl></div><div class='xr-var-data'><pre>array(&#x27;2020-09-15T12:00:00.000000000&#x27;, dtype=&#x27;datetime64[ns]&#x27;)</pre></div></li></ul></div></li><li class='xr-section-item'><input id='section-c50266db-450b-4000-9816-4370e973d424' class='xr-section-summary-in' type='checkbox'  checked><label for='section-c50266db-450b-4000-9816-4370e973d424' class='xr-section-summary' >Data variables: <span>(1)</span></label><div class='xr-section-inline-details'></div><div class='xr-section-details'><ul class='xr-var-list'><li class='xr-var-item'><div class='xr-var-name'><span>t2m</span></div><div class='xr-var-dims'>(number, latitude, longitude)</div><div class='xr-var-dtype'>float32</div><div class='xr-var-preview xr-preview'>dask.array&lt;chunksize=(1, 181, 360), meta=np.ndarray&gt;</div><input id='attrs-d63c045e-c79e-4491-8686-8d7509dcbd17' class='xr-var-attrs-in' type='checkbox' ><label for='attrs-d63c045e-c79e-4491-8686-8d7509dcbd17' title='Show/Hide attributes'><svg class='icon xr-icon-file-text2'><use xlink:href='#icon-file-text2'></use></svg></label><input id='data-aa2fe70d-e479-4fdf-aee8-39d78e3fe52a' class='xr-var-data-in' type='checkbox'><label for='data-aa2fe70d-e479-4fdf-aee8-39d78e3fe52a' title='Show/Hide data repr'><svg class='icon xr-icon-database'><use xlink:href='#icon-database'></use></svg></label><div class='xr-var-attrs'><dl class='xr-attrs'><dt><span>GRIB_paramId :</span></dt><dd>167</dd><dt><span>GRIB_dataType :</span></dt><dd>pf</dd><dt><span>GRIB_numberOfPoints :</span></dt><dd>65160</dd><dt><span>GRIB_typeOfLevel :</span></dt><dd>heightAboveGround</dd><dt><span>GRIB_stepUnits :</span></dt><dd>1</dd><dt><span>GRIB_stepType :</span></dt><dd>instant</dd><dt><span>GRIB_gridType :</span></dt><dd>regular_ll</dd><dt><span>GRIB_NV :</span></dt><dd>0</dd><dt><span>GRIB_Nx :</span></dt><dd>360</dd><dt><span>GRIB_Ny :</span></dt><dd>181</dd><dt><span>GRIB_cfName :</span></dt><dd>air_temperature</dd><dt><span>GRIB_cfVarName :</span></dt><dd>t2m</dd><dt><span>GRIB_gridDefinitionDescription :</span></dt><dd>Latitude/longitude. Also called equidistant cylindrical, or Plate Carree</dd><dt><span>GRIB_iDirectionIncrementInDegrees :</span></dt><dd>1.0</dd><dt><span>GRIB_iScansNegatively :</span></dt><dd>0</dd><dt><span>GRIB_jDirectionIncrementInDegrees :</span></dt><dd>1.0</dd><dt><span>GRIB_jPointsAreConsecutive :</span></dt><dd>0</dd><dt><span>GRIB_jScansPositively :</span></dt><dd>0</dd><dt><span>GRIB_latitudeOfFirstGridPointInDegrees :</span></dt><dd>90.0</dd><dt><span>GRIB_latitudeOfLastGridPointInDegrees :</span></dt><dd>-90.0</dd><dt><span>GRIB_longitudeOfFirstGridPointInDegrees :</span></dt><dd>0.0</dd><dt><span>GRIB_longitudeOfLastGridPointInDegrees :</span></dt><dd>359.0</dd><dt><span>GRIB_missingValue :</span></dt><dd>9999</dd><dt><span>GRIB_name :</span></dt><dd>2 metre temperature</dd><dt><span>GRIB_shortName :</span></dt><dd>2t</dd><dt><span>GRIB_totalNumber :</span></dt><dd>20</dd><dt><span>GRIB_units :</span></dt><dd>K</dd><dt><span>long_name :</span></dt><dd>2 metre temperature</dd><dt><span>units :</span></dt><dd>K</dd><dt><span>standard_name :</span></dt><dd>air_temperature</dd></dl></div><div class='xr-var-data'><table>\n<tr>\n<td>\n<table>\n  <thead>\n    <tr><td> </td><th> Array </th><th> Chunk </th></tr>\n  </thead>\n  <tbody>\n    <tr><th> Bytes </th><td> 5.22 MiB </td> <td> 254.53 kiB </td></tr>\n    <tr><th> Shape </th><td> (21, 181, 360) </td> <td> (1, 181, 360) </td></tr>\n    <tr><th> Count </th><td> 84 Tasks </td><td> 21 Chunks </td></tr>\n    <tr><th> Type </th><td> float32 </td><td> numpy.ndarray </td></tr>\n  </tbody>\n</table>\n</td>\n<td>\n<svg width=\"200\" height=\"131\" style=\"stroke:rgb(0,0,0);stroke-width:1\" >\n\n  <!-- Horizontal lines -->\n  <line x1=\"10\" y1=\"0\" x2=\"30\" y2=\"20\" style=\"stroke-width:2\" />\n  <line x1=\"10\" y1=\"60\" x2=\"30\" y2=\"81\" style=\"stroke-width:2\" />\n\n  <!-- Vertical lines -->\n  <line x1=\"10\" y1=\"0\" x2=\"10\" y2=\"60\" style=\"stroke-width:2\" />\n  <line x1=\"10\" y1=\"0\" x2=\"10\" y2=\"61\" />\n  <line x1=\"11\" y1=\"1\" x2=\"11\" y2=\"62\" />\n  <line x1=\"12\" y1=\"2\" x2=\"12\" y2=\"63\" />\n  <line x1=\"13\" y1=\"3\" x2=\"13\" y2=\"64\" />\n  <line x1=\"14\" y1=\"4\" x2=\"14\" y2=\"65\" />\n  <line x1=\"15\" y1=\"5\" x2=\"15\" y2=\"66\" />\n  <line x1=\"16\" y1=\"6\" x2=\"16\" y2=\"67\" />\n  <line x1=\"17\" y1=\"7\" x2=\"17\" y2=\"68\" />\n  <line x1=\"18\" y1=\"8\" x2=\"18\" y2=\"69\" />\n  <line x1=\"20\" y1=\"10\" x2=\"20\" y2=\"71\" />\n  <line x1=\"21\" y1=\"11\" x2=\"21\" y2=\"72\" />\n  <line x1=\"22\" y1=\"12\" x2=\"22\" y2=\"73\" />\n  <line x1=\"23\" y1=\"13\" x2=\"23\" y2=\"74\" />\n  <line x1=\"24\" y1=\"14\" x2=\"24\" y2=\"75\" />\n  <line x1=\"25\" y1=\"15\" x2=\"25\" y2=\"76\" />\n  <line x1=\"26\" y1=\"16\" x2=\"26\" y2=\"77\" />\n  <line x1=\"27\" y1=\"17\" x2=\"27\" y2=\"78\" />\n  <line x1=\"28\" y1=\"18\" x2=\"28\" y2=\"79\" />\n  <line x1=\"30\" y1=\"20\" x2=\"30\" y2=\"81\" style=\"stroke-width:2\" />\n\n  <!-- Colored Rectangle -->\n  <polygon points=\"10.0,0.0 30.84805948652768,20.84805948652768 30.84805948652768,81.18139281986102 10.0,60.333333333333336\" style=\"fill:#8B4903A0;stroke-width:0\"/>\n\n  <!-- Horizontal lines -->\n  <line x1=\"10\" y1=\"0\" x2=\"130\" y2=\"0\" style=\"stroke-width:2\" />\n  <line x1=\"10\" y1=\"0\" x2=\"130\" y2=\"0\" />\n  <line x1=\"11\" y1=\"1\" x2=\"131\" y2=\"1\" />\n  <line x1=\"12\" y1=\"2\" x2=\"132\" y2=\"2\" />\n  <line x1=\"13\" y1=\"3\" x2=\"133\" y2=\"3\" />\n  <line x1=\"14\" y1=\"4\" x2=\"134\" y2=\"4\" />\n  <line x1=\"15\" y1=\"5\" x2=\"135\" y2=\"5\" />\n  <line x1=\"16\" y1=\"6\" x2=\"136\" y2=\"6\" />\n  <line x1=\"17\" y1=\"7\" x2=\"137\" y2=\"7\" />\n  <line x1=\"18\" y1=\"8\" x2=\"138\" y2=\"8\" />\n  <line x1=\"20\" y1=\"10\" x2=\"140\" y2=\"10\" />\n  <line x1=\"21\" y1=\"11\" x2=\"141\" y2=\"11\" />\n  <line x1=\"22\" y1=\"12\" x2=\"142\" y2=\"12\" />\n  <line x1=\"23\" y1=\"13\" x2=\"143\" y2=\"13\" />\n  <line x1=\"24\" y1=\"14\" x2=\"144\" y2=\"14\" />\n  <line x1=\"25\" y1=\"15\" x2=\"145\" y2=\"15\" />\n  <line x1=\"26\" y1=\"16\" x2=\"146\" y2=\"16\" />\n  <line x1=\"27\" y1=\"17\" x2=\"147\" y2=\"17\" />\n  <line x1=\"28\" y1=\"18\" x2=\"148\" y2=\"18\" />\n  <line x1=\"30\" y1=\"20\" x2=\"150\" y2=\"20\" style=\"stroke-width:2\" />\n\n  <!-- Vertical lines -->\n  <line x1=\"10\" y1=\"0\" x2=\"30\" y2=\"20\" style=\"stroke-width:2\" />\n  <line x1=\"130\" y1=\"0\" x2=\"150\" y2=\"20\" style=\"stroke-width:2\" />\n\n  <!-- Colored Rectangle -->\n  <polygon points=\"10.0,0.0 130.0,0.0 150.8480594865277,20.84805948652768 30.84805948652768,20.84805948652768\" style=\"fill:#8B4903A0;stroke-width:0\"/>\n\n  <!-- Horizontal lines -->\n  <line x1=\"30\" y1=\"20\" x2=\"150\" y2=\"20\" style=\"stroke-width:2\" />\n  <line x1=\"30\" y1=\"81\" x2=\"150\" y2=\"81\" style=\"stroke-width:2\" />\n\n  <!-- Vertical lines -->\n  <line x1=\"30\" y1=\"20\" x2=\"30\" y2=\"81\" style=\"stroke-width:2\" />\n  <line x1=\"150\" y1=\"20\" x2=\"150\" y2=\"81\" style=\"stroke-width:2\" />\n\n  <!-- Colored Rectangle -->\n  <polygon points=\"30.84805948652768,20.84805948652768 150.8480594865277,20.84805948652768 150.8480594865277,81.18139281986102 30.84805948652768,81.18139281986102\" style=\"fill:#ECB172A0;stroke-width:0\"/>\n\n  <!-- Text -->\n  <text x=\"90.848059\" y=\"101.181393\" font-size=\"1.0rem\" font-weight=\"100\" text-anchor=\"middle\" >360</text>\n  <text x=\"170.848059\" y=\"51.014726\" font-size=\"1.0rem\" font-weight=\"100\" text-anchor=\"middle\" transform=\"rotate(-90,170.848059,51.014726)\">181</text>\n  <text x=\"10.424030\" y=\"90.757363\" font-size=\"1.0rem\" font-weight=\"100\" text-anchor=\"middle\" transform=\"rotate(45,10.424030,90.757363)\">21</text>\n</svg>\n</td>\n</tr>\n</table></div></li></ul></div></li><li class='xr-section-item'><input id='section-67b4e912-1fb0-4dbe-96bd-3918c409ba0b' class='xr-section-summary-in' type='checkbox'  checked><label for='section-67b4e912-1fb0-4dbe-96bd-3918c409ba0b' class='xr-section-summary' >Attributes: <span>(7)</span></label><div class='xr-section-inline-details'></div><div class='xr-section-details'><dl class='xr-attrs'><dt><span>GRIB_edition :</span></dt><dd>2</dd><dt><span>GRIB_centre :</span></dt><dd>kwbc</dd><dt><span>GRIB_centreDescription :</span></dt><dd>US National Weather Service - NCEP </dd><dt><span>GRIB_subCentre :</span></dt><dd>2</dd><dt><span>Conventions :</span></dt><dd>CF-1.7</dd><dt><span>institution :</span></dt><dd>US National Weather Service - NCEP </dd><dt><span>history :</span></dt><dd>2021-06-09T17:47 GRIB to CDM+CF via cfgrib-0.9.9.0/ecCodes-2.22.0 with {&quot;source&quot;: &quot;my_caching_folder/gens-a_3_20200831_0000_372_20.grb2&quot;, &quot;filter_by_keys&quot;: {&quot;typeOfLevel&quot;: &quot;heightAboveGround&quot;, &quot;cfVarName&quot;: &quot;t2m&quot;}, &quot;encode_cf&quot;: [&quot;parameter&quot;, &quot;time&quot;, &quot;geography&quot;, &quot;vertical&quot;]}</dd></dl></div></li></ul></div></div>"
     },
     "metadata": {},
     "execution_count": 19
    }
   ],
   "source": [
    "cat_url = 'https://www.ncei.noaa.gov/thredds/catalog/model-gefs-003/202008/20200831/catalog.xml'\n",
    "source = intake.open_thredds_merged(\n",
    "    f'simplecache::{cat_url}',\n",
    "    path=[\"NCEP gens-a Grid 3 Member-Forecast *-372 for 2020-08-31 00:00*\"],\n",
    "    driver=\"netcdf\",\n",
    "    concat_kwargs={\"dim\": \"number\"},\n",
    "    xarray_kwargs=dict(\n",
    "        engine=\"cfgrib\",\n",
    "        backend_kwargs=dict(\n",
    "            filter_by_keys={\"typeOfLevel\": \"heightAboveGround\", \"cfVarName\": \"t2m\"}\n",
    "        ),\n",
    "    ),\n",
    ")\n",
    "source.to_dask()"
   ]
  },
  {
   "cell_type": "code",
   "execution_count": null,
   "metadata": {},
   "outputs": [],
   "source": []
  }
 ],
 "metadata": {
  "kernelspec": {
   "name": "python394jvsc74a57bd08c9dd1675ed1475511ca7cc9377f79452dc415e3683ecf81bd1eba05161e223d",
   "display_name": "Python 3.9.4 64-bit ('intake-thredds-dev': conda)"
  },
  "language_info": {
   "codemirror_mode": {
    "name": "ipython",
    "version": 3
   },
   "file_extension": ".py",
   "mimetype": "text/x-python",
   "name": "python",
   "nbconvert_exporter": "python",
   "pygments_lexer": "ipython3",
   "version": "3.9.4"
  },
  "widgets": {
   "application/vnd.jupyter.widget-state+json": {
    "state": {},
    "version_major": 2,
    "version_minor": 0
   }
  },
  "metadata": {
   "interpreter": {
    "hash": "8c9dd1675ed1475511ca7cc9377f79452dc415e3683ecf81bd1eba05161e223d"
   }
  }
 },
 "nbformat": 4,
 "nbformat_minor": 5
}
